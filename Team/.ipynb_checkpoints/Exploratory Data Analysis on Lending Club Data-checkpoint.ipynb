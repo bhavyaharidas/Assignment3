{
 "cells": [
  {
   "cell_type": "markdown",
   "metadata": {},
   "source": [
    "## DATA PROCESSING "
   ]
  },
  {
   "cell_type": "code",
   "execution_count": 1,
   "metadata": {},
   "outputs": [],
   "source": [
    "import pandas as pd\n",
    "import seaborn as sns\n",
    "import numpy as np\n",
    "import matplotlib.pyplot as plt\n",
    "import matplotlib\n",
    "%matplotlib inline\n",
    "\n",
    "# A helper function that converts \n",
    "# [\"a\", \"b\", \"a\", \"c\"] into\n",
    "# [1, 2, 1, 3]\n",
    "# This allows the machine learning algorithims to work on integers instead of strings\n",
    "def categorize(l):\n",
    "    uniques = sorted(list(set(l)))\n",
    "    return [uniques.index(x) + 1 for x in l]"
   ]
  },
  {
   "cell_type": "code",
   "execution_count": 2,
   "metadata": {},
   "outputs": [
    {
     "name": "stderr",
     "output_type": "stream",
     "text": [
      "C:\\Users\\bhavy\\Anaconda3\\lib\\site-packages\\IPython\\core\\interactiveshell.py:3020: DtypeWarning: Columns (19,55) have mixed types. Specify dtype option on import or set low_memory=False.\n",
      "  interactivity=interactivity, compiler=compiler, result=result)\n"
     ]
    },
    {
     "data": {
      "text/html": [
       "<div>\n",
       "<style scoped>\n",
       "    .dataframe tbody tr th:only-of-type {\n",
       "        vertical-align: middle;\n",
       "    }\n",
       "\n",
       "    .dataframe tbody tr th {\n",
       "        vertical-align: top;\n",
       "    }\n",
       "\n",
       "    .dataframe thead th {\n",
       "        text-align: right;\n",
       "    }\n",
       "</style>\n",
       "<table border=\"1\" class=\"dataframe\">\n",
       "  <thead>\n",
       "    <tr style=\"text-align: right;\">\n",
       "      <th></th>\n",
       "      <th>member_id</th>\n",
       "      <th>loan_amnt</th>\n",
       "      <th>funded_amnt</th>\n",
       "      <th>funded_amnt_inv</th>\n",
       "      <th>term</th>\n",
       "      <th>int_rate</th>\n",
       "      <th>installment</th>\n",
       "      <th>grade</th>\n",
       "      <th>sub_grade</th>\n",
       "      <th>emp_length</th>\n",
       "      <th>home_ownership</th>\n",
       "      <th>annual_inc</th>\n",
       "      <th>verification_status</th>\n",
       "      <th>issue_d</th>\n",
       "      <th>loan_status</th>\n",
       "      <th>pymnt_plan</th>\n",
       "      <th>purpose</th>\n",
       "      <th>addr_state</th>\n",
       "      <th>dti</th>\n",
       "      <th>delinq_2yrs</th>\n",
       "      <th>inq_last_6mths</th>\n",
       "      <th>mths_since_last_delinq</th>\n",
       "      <th>mths_since_last_record</th>\n",
       "      <th>open_acc</th>\n",
       "      <th>pub_rec</th>\n",
       "      <th>revol_bal</th>\n",
       "      <th>revol_util</th>\n",
       "      <th>total_acc</th>\n",
       "      <th>initial_list_status</th>\n",
       "      <th>out_prncp</th>\n",
       "      <th>out_prncp_inv</th>\n",
       "      <th>total_pymnt</th>\n",
       "      <th>total_pymnt_inv</th>\n",
       "      <th>recoveries</th>\n",
       "      <th>collection_recovery_fee</th>\n",
       "      <th>last_pymnt_amnt</th>\n",
       "      <th>last_credit_pull_d</th>\n",
       "      <th>collections_12_mths_ex_med</th>\n",
       "      <th>mths_since_last_major_derog</th>\n",
       "      <th>application_type</th>\n",
       "      <th>annual_inc_joint</th>\n",
       "      <th>dti_joint</th>\n",
       "      <th>verification_status_joint</th>\n",
       "      <th>acc_now_delinq</th>\n",
       "      <th>tot_coll_amt</th>\n",
       "      <th>tot_cur_bal</th>\n",
       "      <th>open_acc_6m</th>\n",
       "      <th>open_il_6m</th>\n",
       "      <th>open_il_12m</th>\n",
       "      <th>open_il_24m</th>\n",
       "      <th>mths_since_rcnt_il</th>\n",
       "      <th>total_bal_il</th>\n",
       "      <th>il_util</th>\n",
       "      <th>open_rv_12m</th>\n",
       "      <th>open_rv_24m</th>\n",
       "      <th>max_bal_bc</th>\n",
       "      <th>all_util</th>\n",
       "      <th>total_rev_hi_lim</th>\n",
       "      <th>inq_fi</th>\n",
       "      <th>total_cu_tl</th>\n",
       "      <th>inq_last_12m</th>\n",
       "    </tr>\n",
       "  </thead>\n",
       "  <tbody>\n",
       "    <tr>\n",
       "      <th>0</th>\n",
       "      <td>1296599</td>\n",
       "      <td>5000.0</td>\n",
       "      <td>5000.0</td>\n",
       "      <td>4975.0</td>\n",
       "      <td>36 months</td>\n",
       "      <td>10.65</td>\n",
       "      <td>162.87</td>\n",
       "      <td>B</td>\n",
       "      <td>B2</td>\n",
       "      <td>10+ years</td>\n",
       "      <td>RENT</td>\n",
       "      <td>24000.0</td>\n",
       "      <td>Verified</td>\n",
       "      <td>Dec-2011</td>\n",
       "      <td>Fully Paid</td>\n",
       "      <td>n</td>\n",
       "      <td>credit_card</td>\n",
       "      <td>AZ</td>\n",
       "      <td>27.65</td>\n",
       "      <td>0.0</td>\n",
       "      <td>1.0</td>\n",
       "      <td>0.0</td>\n",
       "      <td>0.0</td>\n",
       "      <td>3.0</td>\n",
       "      <td>0.0</td>\n",
       "      <td>13648.0</td>\n",
       "      <td>83.7</td>\n",
       "      <td>9.0</td>\n",
       "      <td>f</td>\n",
       "      <td>0.0</td>\n",
       "      <td>0.0</td>\n",
       "      <td>5861.071414</td>\n",
       "      <td>5831.78</td>\n",
       "      <td>0.00</td>\n",
       "      <td>0.00</td>\n",
       "      <td>171.62</td>\n",
       "      <td>Jan-2016</td>\n",
       "      <td>0.0</td>\n",
       "      <td>0.0</td>\n",
       "      <td>INDIVIDUAL</td>\n",
       "      <td>0.0</td>\n",
       "      <td>0.0</td>\n",
       "      <td>0</td>\n",
       "      <td>0.0</td>\n",
       "      <td>0.0</td>\n",
       "      <td>0.0</td>\n",
       "      <td>0.0</td>\n",
       "      <td>0.0</td>\n",
       "      <td>0.0</td>\n",
       "      <td>0.0</td>\n",
       "      <td>0.0</td>\n",
       "      <td>0.0</td>\n",
       "      <td>0.0</td>\n",
       "      <td>0.0</td>\n",
       "      <td>0.0</td>\n",
       "      <td>0.0</td>\n",
       "      <td>0.0</td>\n",
       "      <td>0.0</td>\n",
       "      <td>0.0</td>\n",
       "      <td>0.0</td>\n",
       "      <td>0.0</td>\n",
       "    </tr>\n",
       "    <tr>\n",
       "      <th>1</th>\n",
       "      <td>1314167</td>\n",
       "      <td>2500.0</td>\n",
       "      <td>2500.0</td>\n",
       "      <td>2500.0</td>\n",
       "      <td>60 months</td>\n",
       "      <td>15.27</td>\n",
       "      <td>59.83</td>\n",
       "      <td>C</td>\n",
       "      <td>C4</td>\n",
       "      <td>&lt; 1 year</td>\n",
       "      <td>RENT</td>\n",
       "      <td>30000.0</td>\n",
       "      <td>Source Verified</td>\n",
       "      <td>Dec-2011</td>\n",
       "      <td>Charged Off</td>\n",
       "      <td>n</td>\n",
       "      <td>car</td>\n",
       "      <td>GA</td>\n",
       "      <td>1.00</td>\n",
       "      <td>0.0</td>\n",
       "      <td>5.0</td>\n",
       "      <td>0.0</td>\n",
       "      <td>0.0</td>\n",
       "      <td>3.0</td>\n",
       "      <td>0.0</td>\n",
       "      <td>1687.0</td>\n",
       "      <td>9.4</td>\n",
       "      <td>4.0</td>\n",
       "      <td>f</td>\n",
       "      <td>0.0</td>\n",
       "      <td>0.0</td>\n",
       "      <td>1008.710000</td>\n",
       "      <td>1008.71</td>\n",
       "      <td>117.08</td>\n",
       "      <td>1.11</td>\n",
       "      <td>119.66</td>\n",
       "      <td>Sep-2013</td>\n",
       "      <td>0.0</td>\n",
       "      <td>0.0</td>\n",
       "      <td>INDIVIDUAL</td>\n",
       "      <td>0.0</td>\n",
       "      <td>0.0</td>\n",
       "      <td>0</td>\n",
       "      <td>0.0</td>\n",
       "      <td>0.0</td>\n",
       "      <td>0.0</td>\n",
       "      <td>0.0</td>\n",
       "      <td>0.0</td>\n",
       "      <td>0.0</td>\n",
       "      <td>0.0</td>\n",
       "      <td>0.0</td>\n",
       "      <td>0.0</td>\n",
       "      <td>0.0</td>\n",
       "      <td>0.0</td>\n",
       "      <td>0.0</td>\n",
       "      <td>0.0</td>\n",
       "      <td>0.0</td>\n",
       "      <td>0.0</td>\n",
       "      <td>0.0</td>\n",
       "      <td>0.0</td>\n",
       "      <td>0.0</td>\n",
       "    </tr>\n",
       "    <tr>\n",
       "      <th>2</th>\n",
       "      <td>1313524</td>\n",
       "      <td>2400.0</td>\n",
       "      <td>2400.0</td>\n",
       "      <td>2400.0</td>\n",
       "      <td>36 months</td>\n",
       "      <td>15.96</td>\n",
       "      <td>84.33</td>\n",
       "      <td>C</td>\n",
       "      <td>C5</td>\n",
       "      <td>10+ years</td>\n",
       "      <td>RENT</td>\n",
       "      <td>12252.0</td>\n",
       "      <td>Not Verified</td>\n",
       "      <td>Dec-2011</td>\n",
       "      <td>Fully Paid</td>\n",
       "      <td>n</td>\n",
       "      <td>small_business</td>\n",
       "      <td>IL</td>\n",
       "      <td>8.72</td>\n",
       "      <td>0.0</td>\n",
       "      <td>2.0</td>\n",
       "      <td>0.0</td>\n",
       "      <td>0.0</td>\n",
       "      <td>2.0</td>\n",
       "      <td>0.0</td>\n",
       "      <td>2956.0</td>\n",
       "      <td>98.5</td>\n",
       "      <td>10.0</td>\n",
       "      <td>f</td>\n",
       "      <td>0.0</td>\n",
       "      <td>0.0</td>\n",
       "      <td>3003.653644</td>\n",
       "      <td>3003.65</td>\n",
       "      <td>0.00</td>\n",
       "      <td>0.00</td>\n",
       "      <td>649.91</td>\n",
       "      <td>Jan-2016</td>\n",
       "      <td>0.0</td>\n",
       "      <td>0.0</td>\n",
       "      <td>INDIVIDUAL</td>\n",
       "      <td>0.0</td>\n",
       "      <td>0.0</td>\n",
       "      <td>0</td>\n",
       "      <td>0.0</td>\n",
       "      <td>0.0</td>\n",
       "      <td>0.0</td>\n",
       "      <td>0.0</td>\n",
       "      <td>0.0</td>\n",
       "      <td>0.0</td>\n",
       "      <td>0.0</td>\n",
       "      <td>0.0</td>\n",
       "      <td>0.0</td>\n",
       "      <td>0.0</td>\n",
       "      <td>0.0</td>\n",
       "      <td>0.0</td>\n",
       "      <td>0.0</td>\n",
       "      <td>0.0</td>\n",
       "      <td>0.0</td>\n",
       "      <td>0.0</td>\n",
       "      <td>0.0</td>\n",
       "      <td>0.0</td>\n",
       "    </tr>\n",
       "  </tbody>\n",
       "</table>\n",
       "</div>"
      ],
      "text/plain": [
       "   member_id  loan_amnt  funded_amnt  funded_amnt_inv        term  int_rate  \\\n",
       "0    1296599     5000.0       5000.0           4975.0   36 months     10.65   \n",
       "1    1314167     2500.0       2500.0           2500.0   60 months     15.27   \n",
       "2    1313524     2400.0       2400.0           2400.0   36 months     15.96   \n",
       "\n",
       "   installment grade sub_grade emp_length home_ownership  annual_inc  \\\n",
       "0       162.87     B        B2  10+ years           RENT     24000.0   \n",
       "1        59.83     C        C4   < 1 year           RENT     30000.0   \n",
       "2        84.33     C        C5  10+ years           RENT     12252.0   \n",
       "\n",
       "  verification_status   issue_d  loan_status pymnt_plan         purpose  \\\n",
       "0            Verified  Dec-2011   Fully Paid          n     credit_card   \n",
       "1     Source Verified  Dec-2011  Charged Off          n             car   \n",
       "2        Not Verified  Dec-2011   Fully Paid          n  small_business   \n",
       "\n",
       "  addr_state    dti  delinq_2yrs  inq_last_6mths  mths_since_last_delinq  \\\n",
       "0         AZ  27.65          0.0             1.0                     0.0   \n",
       "1         GA   1.00          0.0             5.0                     0.0   \n",
       "2         IL   8.72          0.0             2.0                     0.0   \n",
       "\n",
       "   mths_since_last_record  open_acc  pub_rec  revol_bal  revol_util  \\\n",
       "0                     0.0       3.0      0.0    13648.0        83.7   \n",
       "1                     0.0       3.0      0.0     1687.0         9.4   \n",
       "2                     0.0       2.0      0.0     2956.0        98.5   \n",
       "\n",
       "   total_acc initial_list_status  out_prncp  out_prncp_inv  total_pymnt  \\\n",
       "0        9.0                   f        0.0            0.0  5861.071414   \n",
       "1        4.0                   f        0.0            0.0  1008.710000   \n",
       "2       10.0                   f        0.0            0.0  3003.653644   \n",
       "\n",
       "   total_pymnt_inv  recoveries  collection_recovery_fee  last_pymnt_amnt  \\\n",
       "0          5831.78        0.00                     0.00           171.62   \n",
       "1          1008.71      117.08                     1.11           119.66   \n",
       "2          3003.65        0.00                     0.00           649.91   \n",
       "\n",
       "  last_credit_pull_d  collections_12_mths_ex_med  mths_since_last_major_derog  \\\n",
       "0           Jan-2016                         0.0                          0.0   \n",
       "1           Sep-2013                         0.0                          0.0   \n",
       "2           Jan-2016                         0.0                          0.0   \n",
       "\n",
       "  application_type  annual_inc_joint  dti_joint verification_status_joint  \\\n",
       "0       INDIVIDUAL               0.0        0.0                         0   \n",
       "1       INDIVIDUAL               0.0        0.0                         0   \n",
       "2       INDIVIDUAL               0.0        0.0                         0   \n",
       "\n",
       "   acc_now_delinq  tot_coll_amt  tot_cur_bal  open_acc_6m  open_il_6m  \\\n",
       "0             0.0           0.0          0.0          0.0         0.0   \n",
       "1             0.0           0.0          0.0          0.0         0.0   \n",
       "2             0.0           0.0          0.0          0.0         0.0   \n",
       "\n",
       "   open_il_12m  open_il_24m  mths_since_rcnt_il  total_bal_il  il_util  \\\n",
       "0          0.0          0.0                 0.0           0.0      0.0   \n",
       "1          0.0          0.0                 0.0           0.0      0.0   \n",
       "2          0.0          0.0                 0.0           0.0      0.0   \n",
       "\n",
       "   open_rv_12m  open_rv_24m  max_bal_bc  all_util  total_rev_hi_lim  inq_fi  \\\n",
       "0          0.0          0.0         0.0       0.0               0.0     0.0   \n",
       "1          0.0          0.0         0.0       0.0               0.0     0.0   \n",
       "2          0.0          0.0         0.0       0.0               0.0     0.0   \n",
       "\n",
       "   total_cu_tl  inq_last_12m  \n",
       "0          0.0           0.0  \n",
       "1          0.0           0.0  \n",
       "2          0.0           0.0  "
      ]
     },
     "execution_count": 2,
     "metadata": {},
     "output_type": "execute_result"
    }
   ],
   "source": [
    "df = pd.read_csv(r'C:\\Users\\bhavy\\Desktop\\INFO_DS\\Project3_Data\\lending-club-loan-data\\loan.csv')\n",
    "pd.set_option('display.max_columns',None)\n",
    "df.fillna(0,inplace=True)\n",
    "\n",
    "# Drop unneccesary columns\n",
    "df = df.drop(['url', 'desc', 'policy_code', 'last_pymnt_d', 'next_pymnt_d', 'earliest_cr_line', 'emp_title'], axis=1)\n",
    "df = df.drop(['id', 'title', 'total_rec_int', 'total_rec_late_fee', 'total_rec_prncp', 'zip_code'], axis=1)\n",
    "\n",
    "df.head(3)"
   ]
  },
  {
   "cell_type": "markdown",
   "metadata": {},
   "source": [
    "## ANALYSIS"
   ]
  },
  {
   "cell_type": "markdown",
   "metadata": {},
   "source": [
    "### 1. Loan Amount Base on Grade"
   ]
  },
  {
   "cell_type": "code",
   "execution_count": 3,
   "metadata": {},
   "outputs": [
    {
     "ename": "NameError",
     "evalue": "name 'df_copy' is not defined",
     "output_type": "error",
     "traceback": [
      "\u001b[1;31m---------------------------------------------------------------------------\u001b[0m",
      "\u001b[1;31mNameError\u001b[0m                                 Traceback (most recent call last)",
      "\u001b[1;32m<ipython-input-3-1f503be6bd09>\u001b[0m in \u001b[0;36m<module>\u001b[1;34m\u001b[0m\n\u001b[1;32m----> 1\u001b[1;33m \u001b[0mgroup\u001b[0m \u001b[1;33m=\u001b[0m \u001b[0mdf_copy\u001b[0m\u001b[1;33m.\u001b[0m\u001b[0mgroupby\u001b[0m\u001b[1;33m(\u001b[0m\u001b[1;34m\"grade\"\u001b[0m\u001b[1;33m)\u001b[0m\u001b[1;33m.\u001b[0m\u001b[0mmean\u001b[0m\u001b[1;33m(\u001b[0m\u001b[1;33m)\u001b[0m\u001b[1;33m\u001b[0m\u001b[1;33m\u001b[0m\u001b[0m\n\u001b[0m\u001b[0;32m      2\u001b[0m \u001b[0mavg_loan\u001b[0m \u001b[1;33m=\u001b[0m \u001b[0mgroup\u001b[0m\u001b[1;33m[\u001b[0m\u001b[1;34m'loan_amnt'\u001b[0m\u001b[1;33m]\u001b[0m\u001b[1;33m.\u001b[0m\u001b[0mreset_index\u001b[0m\u001b[1;33m(\u001b[0m\u001b[1;33m)\u001b[0m\u001b[1;33m\u001b[0m\u001b[1;33m\u001b[0m\u001b[0m\n\u001b[0;32m      3\u001b[0m \u001b[0mplt\u001b[0m\u001b[1;33m.\u001b[0m\u001b[0msubplots\u001b[0m\u001b[1;33m(\u001b[0m\u001b[0mfigsize\u001b[0m\u001b[1;33m=\u001b[0m\u001b[1;33m(\u001b[0m\u001b[1;36m15\u001b[0m\u001b[1;33m,\u001b[0m\u001b[1;36m9\u001b[0m\u001b[1;33m)\u001b[0m\u001b[1;33m)\u001b[0m\u001b[1;33m\u001b[0m\u001b[1;33m\u001b[0m\u001b[0m\n\u001b[0;32m      4\u001b[0m \u001b[0msns\u001b[0m\u001b[1;33m.\u001b[0m\u001b[0mbarplot\u001b[0m\u001b[1;33m(\u001b[0m\u001b[0mx\u001b[0m\u001b[1;33m=\u001b[0m\u001b[1;34m'grade'\u001b[0m\u001b[1;33m,\u001b[0m \u001b[0my\u001b[0m\u001b[1;33m=\u001b[0m\u001b[1;34m'loan_amnt'\u001b[0m\u001b[1;33m,\u001b[0m \u001b[0mdata\u001b[0m\u001b[1;33m=\u001b[0m\u001b[0mavg_loan\u001b[0m\u001b[1;33m,\u001b[0m \u001b[0mpalette\u001b[0m\u001b[1;33m=\u001b[0m\u001b[1;34m'Set2'\u001b[0m\u001b[1;33m)\u001b[0m\u001b[1;33m\u001b[0m\u001b[1;33m\u001b[0m\u001b[0m\n",
      "\u001b[1;31mNameError\u001b[0m: name 'df_copy' is not defined"
     ]
    }
   ],
   "source": [
    "group = df_copy.groupby(\"grade\").mean()\n",
    "avg_loan = group['loan_amnt'].reset_index()\n",
    "plt.subplots(figsize=(15,9))\n",
    "sns.barplot(x='grade', y='loan_amnt', data=avg_loan, palette='Set2')"
   ]
  },
  {
   "cell_type": "markdown",
   "metadata": {},
   "source": [
    "More number of loans have been issued for higher risk profile(with lower grades)"
   ]
  },
  {
   "cell_type": "markdown",
   "metadata": {},
   "source": [
    "### 2. Interest Rate base on Grade"
   ]
  },
  {
   "cell_type": "code",
   "execution_count": null,
   "metadata": {},
   "outputs": [],
   "source": [
    "plt.subplots(figsize=(15,6))\n",
    "sns.violinplot(x=\"grade\", y=\"int_rate\", data=df_copy, order=\"ABCDEFG\")"
   ]
  },
  {
   "cell_type": "markdown",
   "metadata": {},
   "source": [
    "As the grade value decreses the interest rate increases. The ideal interest rate for group A is around 7% and for group G is around 30%."
   ]
  },
  {
   "cell_type": "markdown",
   "metadata": {},
   "source": [
    "### 3. Loan status by grade"
   ]
  },
  {
   "cell_type": "code",
   "execution_count": null,
   "metadata": {},
   "outputs": [],
   "source": [
    "print(\"% of loans that are current or fully paid by each group of grade\")\n",
    "print(f\"A: {round((103322+39679)/(2617+103322+47+39679+365+134+492) * 100, 2)}%\")\n",
    "print(f\"B: {round((171735+66546)/(9519+171735+198+66546+1240+410+2004) * 100, 2)}%\")\n",
    "print(f\"C: {round((171175+52678)/(12642+171175+360+52678+1887+678+3339) * 100, 2)}%\")\n",
    "print(f\"D: {round((91984+30020)/(10486+91984+312+30020+1405+369+2890) * 100, 2)}%\")\n",
    "print(f\"E: {round((47061+12928)/(6258+47061+201+12928+908+368+1852) * 100, 2)}%\")\n",
    "print(f\"F: {round((13589+4726)/(2934+13589+79+4726+354+155+768)* 100, 2)}%\")\n",
    "print(f\"G: {round((2913+1146)/(792+2913+22+1146+94+42+246)* 100, 2)}%\")\n",
    "pd.pivot_table(df, index=\"loan_status\", columns=\"grade\", aggfunc=\"size\")"
   ]
  },
  {
   "cell_type": "markdown",
   "metadata": {},
   "source": [
    "### 4. Average  Loan disbursed state wise"
   ]
  },
  {
   "cell_type": "code",
   "execution_count": null,
   "metadata": {},
   "outputs": [],
   "source": [
    "import plotly.plotly as py\n",
    "import plotly.graph_objs as go\n",
    "from plotly import tools\n",
    "from plotly.offline import download_plotlyjs, init_notebook_mode, plot, iplot\n",
    "init_notebook_mode(connected=True)"
   ]
  },
  {
   "cell_type": "code",
   "execution_count": null,
   "metadata": {},
   "outputs": [],
   "source": [
    "# create dataframe that holds values by state.\n",
    "\n",
    "# create loan amount by state column\n",
    "loan_amnt_by_state = df_copy.groupby([\"addr_state\"]).sum()[\"loan_amnt\"]\n",
    "df_region = loan_amnt_by_state.to_frame()\n",
    "df_region[\"loan_amnt\"] = df_region[\"loan_amnt\"].map(\"{:,.0f}\".format)\n",
    "temp = []\n",
    "for x in df_region[\"loan_amnt\"]:\n",
    "    a = int(x.replace(',', ''))\n",
    "    temp.append(a)\n",
    "df_region[\"loan_amnt\"] = temp\n",
    "\n",
    "# create number of loan issued by state column\n",
    "num_issued_loan = df_copy.groupby([\"addr_state\"]).count()[\"member_id\"]\n",
    "df_region[\"num_issued\"] = num_issued_loan\n",
    "\n",
    "# create average loan amount column\n",
    "avg_loan_amnt_by_state = []\n",
    "for a,b in zip(df_region[\"loan_amnt\"], df_region[\"num_issued\"]):\n",
    "    temp = int(a/b)\n",
    "    avg_loan_amnt_by_state.append(temp)\n",
    "df_region[\"avg_loan_amnt_by_state\"] = avg_loan_amnt_by_state\n",
    "\n"
   ]
  },
  {
   "cell_type": "code",
   "execution_count": null,
   "metadata": {},
   "outputs": [],
   "source": [
    "# change index from state abbreviation to numeric value\n",
    "df_region_copy = df_region.copy()\n",
    "addr_state = df_region_copy.index\n",
    "df_region.index = list(range(1,52))\n",
    "df_region[\"addr_state\"] = addr_state"
   ]
  },
  {
   "cell_type": "code",
   "execution_count": null,
   "metadata": {},
   "outputs": [],
   "source": [
    "# add more columns\n",
    "\n",
    "# create num_default column \n",
    "d = df_copy[df_copy[\"loan_status\"].isin([\"Late (16-30 days)\",\"Late (31-120 days)\",\"Default\", \"Charged Off\", \"Does not meet the credit policy. Status:Charged Off\"])].groupby(\"addr_state\").size()\n",
    "d = d.to_frame()\n",
    "e = pd.DataFrame([0],index=[\"ME\"])\n",
    "f = pd.concat([d,e])\n",
    "f_copy = f.copy()\n",
    "addr_state = f_copy.index\n",
    "f.index = list(range(1,52))\n",
    "f[\"addr_state\"] = addr_state\n",
    "f = f.sort_values(by=\"addr_state\")\n",
    "f.index = list(range(1,52))\n",
    "df_region[\"num_default\"] = f[0]\n",
    "\n",
    "# create default_rate column\n",
    "temp = []\n",
    "for x, y in zip(df_region[\"num_default\"], df_region[\"num_issued\"].astype(int)):\n",
    "    if x is not 0 and y is not 0:\n",
    "        value = (x/y)\n",
    "        value = \"{0:.2f}\".format(value)\n",
    "        value = float(value)\n",
    "        temp.append(value)\n",
    "    else:\n",
    "        temp.append(0)\n",
    "df_region[\"default_rate\"] = temp\n",
    "\n",
    "# create average dti by the state\n",
    "dti = df_copy.groupby(\"addr_state\").agg([np.mean])[\"dti\"]\n",
    "dti.columns = [\"dti\"]\n",
    "dti.index = list(range(1,52))\n",
    "df_region = df_region.join(dti)"
   ]
  },
  {
   "cell_type": "code",
   "execution_count": null,
   "metadata": {},
   "outputs": [],
   "source": [
    "# plotly color setting\n",
    "for col in df_region.columns:\n",
    "    df_region[col] = df_region[col].astype(str)\n",
    "    scl = [[0.0, 'rgb(242,240,247)'],[0.2, 'rgb(218,218,235)'],[0.4, 'rgb(188,189,220)'],\\\n",
    "            [0.6, 'rgb(158,154,200)'],[0.8, 'rgb(117,107,177)'],[1.0, 'rgb(84,39,143)']]\n",
    "\n",
    "\n",
    "# create text column\n",
    "df_region[\"text\"] = df_region[\"addr_state\"] + '<br>' + \\\n",
    "\"Total loan amount ($ USD): \" + df_region[\"loan_amnt\"] + \"<br>\" + \\\n",
    "\"Avg loan amount ($ USD): \" + df_region[\"avg_loan_amnt_by_state\"] + '<br>' + \\\n",
    "\"Default rate: \" + df_region[\"default_rate\"] + \"<br>\" + \\\n",
    "\"DTI: \" + df_region[\"dti\"]"
   ]
  },
  {
   "cell_type": "code",
   "execution_count": null,
   "metadata": {},
   "outputs": [],
   "source": [
    "# setting plotly and deploy the map\n",
    "data = [ dict(\n",
    "        type='choropleth',\n",
    "        colorscale = scl,\n",
    "        autocolorscale = False,\n",
    "        locations = df_region['addr_state'],\n",
    "        z = df_region['avg_loan_amnt_by_state'], \n",
    "        locationmode = 'USA-states',\n",
    "        text = df_region['text'],\n",
    "        marker = dict(\n",
    "            line = dict (\n",
    "                color = 'rgb(255,255,255)',\n",
    "                width = 2\n",
    "            ) ),\n",
    "        colorbar = dict(\n",
    "            title = \"$s USD\")\n",
    "        ) ]\n",
    "\n",
    "layout = dict(\n",
    "        title = 'Average Loan By State',\n",
    "        geo = dict(\n",
    "            scope='usa',\n",
    "            projection=dict( type='albers usa' ),\n",
    "            showlakes = True,\n",
    "            lakecolor = 'rgb(255, 255, 255)'),\n",
    "             )\n",
    "    \n",
    "fig = dict( data=data, layout=layout )\n",
    "iplot( fig, filename='d3-cloropleth-map' )"
   ]
  },
  {
   "cell_type": "markdown",
   "metadata": {},
   "source": [
    "### 5. Heap Map and statistical analysis"
   ]
  },
  {
   "cell_type": "code",
   "execution_count": null,
   "metadata": {},
   "outputs": [],
   "source": [
    "# create new dataset for exploratory analysis\n",
    "df_exp = pd.DataFrame()\n",
    "df_exp['annual_inc'] = df_copy['annual_inc']\n",
    "df_exp['delinq_2yrs'] = df_copy['delinq_2yrs']\n",
    "df_exp['dti'] = df_copy['dti']\n",
    "#df_exp['emp_length'] = categorize(df_copy['emp_length'])\n",
    "df_exp['grade'] = categorize(df_copy['grade'])\n",
    "df_exp['home_ownership'] = categorize(df_copy['home_ownership'])\n",
    "df_exp['installment'] = df_copy['installment']\n",
    "df_exp['int_rate'] = df_copy['int_rate']\n",
    "df_exp['loan_amnt'] = df_copy['loan_amnt']\n",
    "df_exp['loan_status'] = categorize(df_copy['loan_status'])\n",
    "df_exp['purpose'] = categorize(df_copy['purpose'])\n",
    "df_exp['sub_grade'] = categorize(df_copy['sub_grade'])\n",
    "df_exp['term'] = categorize(df_copy['term'])\n",
    "df_exp['acc_now_delinq'] = df_copy['acc_now_delinq']"
   ]
  },
  {
   "cell_type": "code",
   "execution_count": null,
   "metadata": {},
   "outputs": [],
   "source": [
    "plt.figure(figsize=(20,10))\n",
    "sns.set_context(\"paper\", font_scale=2)\n",
    "sns.heatmap(df_exp.corr(), vmax=.8, square=True, annot=True, fmt='.1f')"
   ]
  },
  {
   "cell_type": "markdown",
   "metadata": {},
   "source": [
    "We can see that sub_grade and term seem they have high correlation.\n",
    "and loan_status is not correlated with most of the factors"
   ]
  },
  {
   "cell_type": "code",
   "execution_count": null,
   "metadata": {},
   "outputs": [],
   "source": [
    "# import necessary libraries for statistical testing\n",
    "from scipy import stats\n",
    "from pandas.tools import plotting"
   ]
  },
  {
   "cell_type": "code",
   "execution_count": null,
   "metadata": {},
   "outputs": [],
   "source": [
    "high_grade = df_exp[df_exp[\"grade\"] < 4][\"loan_status\"]\n",
    "low_grade = df_exp[df_exp[\"grade\"] >= 4][\"loan_status\"]\n",
    "two_samples = stats.ttest_ind(high_grade, low_grade)\n",
    "print(\"The t-statistic is %.3f and the p-value is %.3f\" % two_samples)"
   ]
  },
  {
   "cell_type": "code",
   "execution_count": null,
   "metadata": {},
   "outputs": [],
   "source": [
    "shorter_term = df_exp[df_exp.term == 1][\"loan_status\"]\n",
    "longer_term = df_exp[df_exp.term == 2][\"loan_status\"]\n",
    "two_samples = stats.ttest_ind(shorter_term, longer_term)\n",
    "print(\"The t-statistic is %.3f and the p-value is %.3f\" % two_samples)"
   ]
  },
  {
   "cell_type": "code",
   "execution_count": null,
   "metadata": {},
   "outputs": [],
   "source": [
    "low_int_rate = df_exp[df_exp[\"int_rate\"] < 16.00][\"loan_status\"]\n",
    "high_int_rate = df_exp[df_exp[\"int_rate\"] >= 16.00][\"loan_status\"]\n",
    "two_samples = stats.ttest_ind(low_int_rate, high_int_rate)\n",
    "print(\"The t-statistic is %.3f and the p-value is %.3f\" % two_samples)"
   ]
  },
  {
   "cell_type": "markdown",
   "metadata": {},
   "source": [
    "With the low p values we can infer that there is a correlation between grade and loan_status , term and loan_status , int_rate and loan_status"
   ]
  },
  {
   "cell_type": "markdown",
   "metadata": {},
   "source": [
    "### 6. LOAN STATUS"
   ]
  },
  {
   "cell_type": "code",
   "execution_count": null,
   "metadata": {},
   "outputs": [],
   "source": [
    "def univariate(df,col,vartype,hue =None):\n",
    "    \n",
    "    '''\n",
    "    Univariate function will plot the graphs based on the parameters.\n",
    "    df      : dataframe name\n",
    "    col     : Column name\n",
    "    vartype : variable type : continuos or categorical\n",
    "                Continuos(0)   : Distribution, Violin & Boxplot will be plotted.\n",
    "                Categorical(1) : Countplot will be plotted.\n",
    "    hue     : It's only applicable for categorical analysis.\n",
    "    \n",
    "    '''\n",
    "    sns.set(style=\"darkgrid\")\n",
    "    \n",
    "    if vartype == 0:\n",
    "        fig, ax=plt.subplots(nrows =1,ncols=3,figsize=(20,8))\n",
    "        ax[0].set_title(\"Distribution Plot\")\n",
    "        sns.distplot(df[col],ax=ax[0])\n",
    "        ax[1].set_title(\"Violin Plot\")\n",
    "        sns.violinplot(data =df, x=col,ax=ax[1], inner=\"quartile\")\n",
    "        ax[2].set_title(\"Box Plot\")\n",
    "        sns.boxplot(data =df, x=col,ax=ax[2],orient='v')\n",
    "    \n",
    "    if vartype == 1:\n",
    "        temp = pd.Series(data = hue)\n",
    "        fig, ax = plt.subplots()\n",
    "        width = len(df[col].unique()) + 6 + 4*len(temp.unique())\n",
    "        fig.set_size_inches(width , 7)\n",
    "        ax = sns.countplot(data = df, x= col, order=df[col].value_counts().index,hue = hue) \n",
    "        if len(temp.unique()) > 0:\n",
    "            for p in ax.patches:\n",
    "                ax.annotate('{:1.1f}%'.format((p.get_height()*100)/float(len(df_copy))), (p.get_x()+0.05, p.get_height()+20))  \n",
    "        else:\n",
    "            for p in ax.patches:\n",
    "                ax.annotate(p.get_height(), (p.get_x()+0.32, p.get_height()+20)) \n",
    "        del temp\n",
    "    else:\n",
    "        exit\n",
    "        \n",
    "    plt.show()"
   ]
  },
  {
   "cell_type": "code",
   "execution_count": null,
   "metadata": {},
   "outputs": [],
   "source": [
    "univariate(df_copy,col='loan_status',vartype=1)"
   ]
  },
  {
   "cell_type": "markdown",
   "metadata": {},
   "source": [
    "### 7. HOME OWNERSHIP WISE LOAN"
   ]
  },
  {
   "cell_type": "code",
   "execution_count": null,
   "metadata": {},
   "outputs": [],
   "source": [
    "loan_home = ['loan_status', 'home_ownership']\n",
    "cm = sns.light_palette(\"green\", as_cmap=True)\n",
    "pd.crosstab(df_copy[loan_home[0]], df_copy[loan_home[1]]).style.background_gradient(cmap = cm)"
   ]
  },
  {
   "cell_type": "code",
   "execution_count": null,
   "metadata": {},
   "outputs": [],
   "source": [
    "df_copy.home_ownership.unique()"
   ]
  },
  {
   "cell_type": "code",
   "execution_count": null,
   "metadata": {},
   "outputs": [],
   "source": [
    "# Remove rows where home_ownership'=='OTHER', 'NONE', 'ANY'\n",
    "rem = ['OTHER', 'NONE', 'ANY']\n",
    "df_copy.drop(df_copy[df_copy['home_ownership'].isin(rem)].index,inplace=True)\n",
    "df_copy.home_ownership.unique()"
   ]
  },
  {
   "cell_type": "code",
   "execution_count": null,
   "metadata": {},
   "outputs": [],
   "source": [
    "univariate(df=df_copy,col='home_ownership',vartype=1,hue='loan_status')"
   ]
  },
  {
   "cell_type": "markdown",
   "metadata": {},
   "source": [
    "More than 50% of the   cutomers have mortgaged their homes."
   ]
  },
  {
   "cell_type": "markdown",
   "metadata": {},
   "source": [
    "### 8. YEAR WISE LOAN"
   ]
  },
  {
   "cell_type": "code",
   "execution_count": null,
   "metadata": {},
   "outputs": [],
   "source": [
    "year_wise =df_copy.groupby(by= [df_copy.issue_d])[['loan_status']].count()\n",
    "year_wise.rename(columns={\"loan_status\": \"count\"},inplace=True)\n",
    "ax =year_wise.plot(figsize=(20,8))\n",
    "year_wise.plot(kind='bar',figsize=(20,8),ax = ax)\n",
    "plt.show()"
   ]
  },
  {
   "cell_type": "markdown",
   "metadata": {},
   "source": [
    "### 9. Loan Term"
   ]
  },
  {
   "cell_type": "code",
   "execution_count": null,
   "metadata": {},
   "outputs": [],
   "source": [
    "univariate(df=df_copy,col='term',vartype=1,hue='loan_status')"
   ]
  },
  {
   "cell_type": "markdown",
   "metadata": {},
   "source": [
    "Most of the loans given by the Lending Club are for the 36 months term"
   ]
  },
  {
   "cell_type": "markdown",
   "metadata": {},
   "source": [
    "### 10. Purpose of Loan vs Loan Amount for each Loan Status"
   ]
  },
  {
   "cell_type": "code",
   "execution_count": null,
   "metadata": {},
   "outputs": [],
   "source": [
    "purp_loan= ['purpose', 'loan_status']\n",
    "cm = sns.light_palette(\"green\", as_cmap=True)\n",
    "pd.crosstab(df_copy[purp_loan[0]], df_copy[purp_loan[1]]).style.background_gradient(cmap = cm)"
   ]
  },
  {
   "cell_type": "code",
   "execution_count": null,
   "metadata": {},
   "outputs": [],
   "source": [
    "plt.figure(figsize=(16,12))\n",
    "sns.barplot(data =df_copy, x='purpose', y='loan_amnt', hue ='loan_status')\n",
    "plt.title('Purpose of Loan vs Loan Amount')\n",
    "plt.show()"
   ]
  },
  {
   "cell_type": "markdown",
   "metadata": {},
   "source": [
    "### 11. Employment Length vs Loan Amount for different pupose of Loan"
   ]
  },
  {
   "cell_type": "code",
   "execution_count": null,
   "metadata": {},
   "outputs": [],
   "source": [
    "loanstatus=df_copy.pivot_table(index=['loan_status','purpose','emp_length'],values='loan_amnt',aggfunc=('count')).reset_index()\n",
    "loanstatus=df_copy.loc[df_copy['loan_status']=='Charged Off']"
   ]
  },
  {
   "cell_type": "code",
   "execution_count": null,
   "metadata": {},
   "outputs": [],
   "source": [
    "ax = plt.figure(figsize=(30, 18))\n",
    "ax = sns.boxplot(x='emp_length',y='loan_amnt',hue='purpose',data=loanstatus)\n",
    "ax.set_title('Employment Length vs Loan Amount for different pupose of Loan',fontsize=22,weight=\"bold\")\n",
    "ax.set_xlabel('Employment Length',fontsize=16)\n",
    "ax.set_ylabel('Loan Amount',color = 'b',fontsize=16)\n",
    "plt.show()"
   ]
  },
  {
   "cell_type": "code",
   "execution_count": null,
   "metadata": {},
   "outputs": [],
   "source": [
    "print(df_copy.loan_status.value_counts())\n",
    "\n",
    "plt.figure(figsize = (12,14))\n",
    "\n",
    "plt.subplot(311)\n",
    "g = sns.countplot(x=\"loan_status\", data=df_copy)\n",
    "g.set_xticklabels(g.get_xticklabels(),rotation=45)\n",
    "g.set_xlabel(\"\", fontsize=12)\n",
    "g.set_ylabel(\"Count\", fontsize=15)\n",
    "g.set_title(\"Loan Status Count\", fontsize=20)\n",
    "\n",
    "\n",
    "plt.subplots_adjust(wspace = 0.2, hspace = 0.7,top = 0.9)\n",
    "\n",
    "plt.show()"
   ]
  },
  {
   "cell_type": "markdown",
   "metadata": {},
   "source": [
    "### 12. Analyzing the status of loans issued over the years"
   ]
  },
  {
   "cell_type": "code",
   "execution_count": null,
   "metadata": {},
   "outputs": [],
   "source": [
    "df_copy['issue_month'], df_copy['issue_year'] = df_copy['issue_d'].str.split('-', 1).str\n",
    "\n",
    "months_order = [\"Jan\", \"Feb\", \"Mar\", \"Apr\",\"May\",\"Jun\",\"Jul\",\"Aug\",\"Sep\",\"Oct\",\"Nov\",\"Dec\"]\n",
    "df_copy['issue_month'] = pd.Categorical(df_copy['issue_month'],categories=months_order, ordered=True)\n",
    "\n",
    "plt.figure(figsize = (14,6))\n",
    "#Looking the count of defaults though the issue_d that is The month which the loan was funded\n",
    "g = sns.countplot(x='issue_year', data=df_copy,\n",
    "                  hue='loan_status')\n",
    "g.set_xticklabels(g.get_xticklabels(),rotation=90)\n",
    "g.set_xlabel(\"Dates\", fontsize=15)\n",
    "g.set_ylabel(\"Count\", fontsize=15)\n",
    "g.legend(loc='upper left')\n",
    "g.set_title(\"Analysing Loan Status by Years\", fontsize=20)\n",
    "plt.show()"
   ]
  },
  {
   "cell_type": "markdown",
   "metadata": {},
   "source": [
    "### 13. Loan stuts vs different verifictaion status"
   ]
  },
  {
   "cell_type": "code",
   "execution_count": null,
   "metadata": {},
   "outputs": [],
   "source": [
    "loan_verification = ['loan_status', 'verification_status']\n",
    "cm = sns.light_palette(\"green\", as_cmap=True)\n",
    "pd.crosstab(df_copy[loan_verification[0]], df_copy[loan_verification[1]]).style.background_gradient(cmap = cm)"
   ]
  },
  {
   "cell_type": "markdown",
   "metadata": {},
   "source": [
    "Nearly 30% of the loans issued have their sources not verified"
   ]
  },
  {
   "cell_type": "markdown",
   "metadata": {},
   "source": [
    "### 14. Interest Rate and Loan amount sanctioned for different Application Types"
   ]
  },
  {
   "cell_type": "code",
   "execution_count": null,
   "metadata": {},
   "outputs": [],
   "source": [
    "plt.figure(figsize = (12,14))\n",
    "#The amount and int rate x application_type \n",
    "plt.subplot(211)\n",
    "g = sns.barplot(x=\"application_type\", y=\"loan_amnt\",data=df_copy, \n",
    "            palette=\"hls\")\n",
    "g.set_title(\"Application Type - Loan Amount\", fontsize=20)\n",
    "g.set_xlabel(\"\", fontsize=15)\n",
    "g.set_ylabel(\"Loan Amount\", fontsize=15)\n",
    "\n",
    "plt.subplot(212)\n",
    "g1 = sns.barplot(x=\"application_type\", y=\"int_rate\",data=df_copy,\n",
    "               palette=\"hls\")\n",
    "g1.set_title(\"Application Type - Interest Rate\", fontsize=20)\n",
    "g1.set_xlabel(\"\", fontsize=15)\n",
    "g1.set_ylabel(\"Int Rate\", fontsize=15)\n",
    "\n",
    "plt.subplots_adjust(wspace = 0.4, hspace = 0.4,top = 0.9)\n",
    "\n",
    "plt.show()\n",
    "\n"
   ]
  },
  {
   "cell_type": "markdown",
   "metadata": {},
   "source": [
    "We can see that Loans of higher numbers are issued to customers of Joint account and their interest rates are also comparatively higher than the accounts of type Individual"
   ]
  }
 ],
 "metadata": {
  "kernelspec": {
   "display_name": "Python 3",
   "language": "python",
   "name": "python3"
  },
  "language_info": {
   "codemirror_mode": {
    "name": "ipython",
    "version": 3
   },
   "file_extension": ".py",
   "mimetype": "text/x-python",
   "name": "python",
   "nbconvert_exporter": "python",
   "pygments_lexer": "ipython3",
   "version": "3.7.1"
  }
 },
 "nbformat": 4,
 "nbformat_minor": 2
}
