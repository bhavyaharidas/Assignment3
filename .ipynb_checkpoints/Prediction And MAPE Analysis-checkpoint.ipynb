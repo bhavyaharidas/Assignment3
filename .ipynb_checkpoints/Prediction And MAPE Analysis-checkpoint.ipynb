{
 "cells": [
  {
   "cell_type": "code",
   "execution_count": 44,
   "metadata": {},
   "outputs": [],
   "source": [
    "# for numerical analysis and data processing\n",
    "import numpy as np\n",
    "import pandas as pd\n",
    "import itertools\n",
    "from sklearn.model_selection import train_test_split\n",
    "\n",
    "from IPython.display import Image\n",
    "import warnings\n",
    "warnings.filterwarnings('ignore')\n",
    "\n",
    "# for Machine learning algorithms\n",
    "from sklearn import preprocessing\n",
    "from sklearn.cluster import KMeans\n",
    "from sklearn.manifold import TSNE\n",
    "from sklearn.linear_model import LinearRegression\n",
    "from sklearn.ensemble import RandomForestRegressor\n",
    "from sklearn.neural_network import MLPRegressor\n",
    "from sklearn.metrics import mean_squared_error, mean_absolute_error\n",
    "from scipy.spatial.distance import cdist\n",
    "\n",
    "# for vizualizations\n",
    "%matplotlib inline \n",
    "import matplotlib.pyplot as plt\n",
    "from matplotlib import cm as cm\n",
    "from mpl_toolkits.mplot3d import Axes3D\n",
    "import seaborn as sns"
   ]
  },
  {
   "cell_type": "markdown",
   "metadata": {},
   "source": [
    "# IMPORT THE DATA SET"
   ]
  },
  {
   "cell_type": "code",
   "execution_count": 10,
   "metadata": {},
   "outputs": [
    {
     "name": "stdout",
     "output_type": "stream",
     "text": [
      "5.32 28.99 23.669999999999998\n"
     ]
    }
   ],
   "source": [
    "df = df = pd.read_csv(\"Cleaned_loan.csv\", low_memory =False)\n",
    "min_rate= df['int_rate'].min()\n",
    "max_rate= df['int_rate'].max()\n",
    "print(min_rate, max_rate, max_rate- min_rate)"
   ]
  },
  {
   "cell_type": "markdown",
   "metadata": {},
   "source": [
    "# Preparing the dataset\n",
    "Normalizing the data\n",
    "\n",
    "Normalize the data set for ease of calculations so that all features have values between 0 and 1."
   ]
  },
  {
   "cell_type": "code",
   "execution_count": 15,
   "metadata": {},
   "outputs": [],
   "source": [
    "df_max = df.max()\n",
    "df_min = df.min()\n",
    "\n",
    "df=(df-df.min())/(df.max()-df.min())"
   ]
  },
  {
   "cell_type": "markdown",
   "metadata": {},
   "source": [
    "Randomizing the data\n",
    "\n",
    "Randomize the dataset so that any ordered patterns dont influence the prediction. (We have already skipped date as an influencing factor)"
   ]
  },
  {
   "cell_type": "code",
   "execution_count": 16,
   "metadata": {},
   "outputs": [],
   "source": [
    "df = df.iloc[np.random.permutation(len(df))]"
   ]
  },
  {
   "cell_type": "markdown",
   "metadata": {},
   "source": [
    "# Train-test split\n",
    "The data is split into training and testing data. x represents the input features whereas y represents the output i.e. the interest rate.As a rule of thumb, we split the data into 80% training data and 20% testing or validation data."
   ]
  },
  {
   "cell_type": "code",
   "execution_count": 17,
   "metadata": {},
   "outputs": [],
   "source": [
    "y = df.iloc[:,df.columns.isin([\"int_rate\"])]\n",
    "x = df.loc[:,~df.columns.isin([\"int_rate\"])]\n",
    "\n",
    "total_samples=len(df)\n",
    "split = 0.8\n",
    "\n",
    "x_train = x[0:int(total_samples*split)]\n",
    "x_test = x[int(total_samples*split):total_samples]\n",
    "y_train = y[0:int(total_samples*split)]\n",
    "y_test = y[int(total_samples*split):total_samples]"
   ]
  },
  {
   "cell_type": "code",
   "execution_count": 18,
   "metadata": {},
   "outputs": [],
   "source": [
    "def mean_absolute_percentage_error(y_true, y_pred): \n",
    "    '''\n",
    "    Calculates mean absolute error of the true and predicted values.\n",
    "    '''\n",
    "    y_true, y_pred = np.array(y_true), np.array(y_pred)\n",
    "    count = 0\n",
    "    sum = 0\n",
    "    for a, p in zip(y_true, y_pred):\n",
    "        if(a!=0):\n",
    "            sum+=(abs(a-p)/a)\n",
    "            count+=1\n",
    "    return (sum/count) * 100\n",
    "\n",
    "def view_metrics(y_test, predictions, algorithm, samples, total_samples):\n",
    "    '''\n",
    "    Plots the true and predicted values and prints RMS, MAE and MAPE metrics.\n",
    "    '''\n",
    "    fig = plt.figure(figsize=(18,5))\n",
    "    plt.scatter(x=[i for i in range(samples)], y=[x for x in predictions[0:samples]], label='Predicted values')\n",
    "    plt.scatter(x=[i for i in range(samples)], y=[x[0] for x in y_test.values[0:samples]], label='True values')\n",
    "    plt.title('True and Predicted values for test dataset - %s' % algorithm)\n",
    "    plt.legend()\n",
    "    plt.show()\n",
    "    \n",
    "#     fig = plt.figure(figsize=(18,5))\n",
    "#     plt.scatter(x=[i for i in range(total_samples)], y=[x for x in predictions], label='Predicted values')\n",
    "#     plt.scatter(x=[i for i in range(total_samples)], y=[x[0] for x in y_test.values], label='True values')\n",
    "#     plt.title('True and Predicted values for test dataset - %s' % algorithm)\n",
    "#     plt.legend()\n",
    "#     plt.show()\n",
    "\n",
    "    RMS =  np.sqrt(mean_squared_error(y_test, predictions, multioutput='raw_values'))\n",
    "    MAE = mean_absolute_error(y_test, predictions, multioutput='raw_values')\n",
    "    MAPE = mean_absolute_percentage_error(y_test, predictions)\n",
    "    print(\"Root Mean Squared Error:\", RMS)\n",
    "    print(\"Mean Absolute Error\", MAE) \n",
    "    print(\"Mean Absolute Percentage Error\", MAPE)\n",
    "    return RMS, MAE, MAPE"
   ]
  },
  {
   "cell_type": "markdown",
   "metadata": {},
   "source": [
    "# MACHINE LEARNING MODELS"
   ]
  },
  {
   "cell_type": "markdown",
   "metadata": {},
   "source": [
    "# 1. Linear Regression"
   ]
  },
  {
   "cell_type": "code",
   "execution_count": 19,
   "metadata": {},
   "outputs": [
    {
     "name": "stdout",
     "output_type": "stream",
     "text": [
      "[[-9.00608679e-03 -6.84793514e-02 -2.90468168e-01 -3.18318134e-01\n",
      "   3.27469152e-01  5.28721036e-02  3.84966186e-01  7.26303452e-01\n",
      "   5.86089486e-04  6.06994191e-03 -3.07808508e-01  1.14295249e-02\n",
      "   2.08282410e-03  3.43571087e-03  1.32996434e-02  1.19191706e-03\n",
      "   9.77948692e-01  5.96415829e-02  8.11929571e-02  8.63117165e-04\n",
      "   6.19573150e-03  3.50924591e-02  7.19608183e-02 -4.67239980e-01\n",
      "   2.53509888e-01 -4.10391421e-02  2.11993772e+00 -2.12367212e+00\n",
      "  -2.99478942e-01  1.88057189e-01  1.67304593e-01  1.71359743e-01\n",
      "  -1.43671518e-01  6.98866727e-02  4.23265025e-02  1.95778947e-02\n",
      "  -4.45758092e-02  4.65179284e-02  8.81704774e-02  1.16006117e+00\n",
      "   8.60435343e-02  7.44948820e-03 -1.45475262e-02  4.09656866e-02\n",
      "   9.23533054e-03 -5.08277547e-03 -5.57809965e-03 -3.56858461e-03\n",
      "   1.43007625e-02  3.12559272e-02 -3.47262724e-03  1.05991724e-02\n",
      "   6.19596589e-01  1.03087905e-03  2.68298595e-04  3.22853358e-02]]\n"
     ]
    }
   ],
   "source": [
    "lin_reg_model = LinearRegression() # build model\n",
    "lin_reg_model= lin_reg_model.fit(x_train, y_train) # train model\n",
    "R2 = lin_reg_model.score(x_train, y_train) # coefficient of determination\n",
    "print(lin_reg_model.coef_)"
   ]
  },
  {
   "cell_type": "code",
   "execution_count": 20,
   "metadata": {},
   "outputs": [
    {
     "data": {
      "image/png": "[encoded data removed]",
      "text/plain": [
       "<Figure size 1296x360 with 1 Axes>"
      ]
     },
     "metadata": {
      "needs_background": "light"
     },
     "output_type": "display_data"
    },
    {
     "name": "stdout",
     "output_type": "stream",
     "text": [
      "Root Mean Squared Error: [0.04629364]\n",
      "Mean Absolute Error [0.0371045]\n",
      "Mean Absolute Percentage Error [20.36769279]\n"
     ]
    }
   ],
   "source": [
    "lin_reg_model_predictions = lin_reg_model.predict(x_test) # make predictions\n",
    "lin_reg_model_metrics = view_metrics(y_test, lin_reg_model_predictions,'Linear Regression', samples = 50, total_samples=2000)\n",
    "## If predicted value is same as true value, the points will be overlapping. Closer the points, better is the prediction."
   ]
  },
  {
   "cell_type": "markdown",
   "metadata": {},
   "source": [
    "# 2. Random Forest"
   ]
  },
  {
   "cell_type": "code",
   "execution_count": 31,
   "metadata": {},
   "outputs": [],
   "source": [
    "rand_forest_model = RandomForestRegressor(n_estimators=20 ,random_state=0) # build model\n",
    "rand_forest_model = rand_forest_model.fit(x_train, y_train.values.ravel()) # train model\n",
    "RandomForestRegressor(bootstrap=True, criterion='mse', max_depth=5,\n",
    "           max_features='auto', max_leaf_nodes=None,\n",
    "           min_impurity_decrease=0.0, min_impurity_split=None,\n",
    "           min_samples_leaf=1, min_samples_split=2,\n",
    "           min_weight_fraction_leaf=0.0,  n_jobs=1,\n",
    "           oob_score=False, random_state=0, verbose=0, warm_start=False)\n",
    "feature_importance = rand_forest_model.feature_importances_\n",
    "R2 = rand_forest_model.score(x_train, y_train) # coefficient of determination\n",
    "rand_forest_model_predictions = rand_forest_model.predict(x_test) # make predictions"
   ]
  },
  {
   "cell_type": "code",
   "execution_count": 32,
   "metadata": {},
   "outputs": [
    {
     "data": {
      "image/png": "[encoded data removed]",
      "text/plain": [
       "<Figure size 1296x360 with 1 Axes>"
      ]
     },
     "metadata": {
      "needs_background": "light"
     },
     "output_type": "display_data"
    },
    {
     "name": "stdout",
     "output_type": "stream",
     "text": [
      "Root Mean Squared Error: [0.02228748]\n",
      "Mean Absolute Error [0.01424038]\n",
      "Mean Absolute Percentage Error [7.44636977]\n"
     ]
    }
   ],
   "source": [
    "rand_forest_model_metrics = view_metrics(y_test, rand_forest_model_predictions,'Random Forest Regressor', samples = 50, total_samples=2000)"
   ]
  },
  {
   "cell_type": "code",
   "execution_count": 34,
   "metadata": {},
   "outputs": [
    {
     "data": {
      "text/plain": [
       "[DecisionTreeRegressor(criterion='mse', max_depth=None, max_features='auto',\n",
       "            max_leaf_nodes=None, min_impurity_decrease=0.0,\n",
       "            min_impurity_split=None, min_samples_leaf=1,\n",
       "            min_samples_split=2, min_weight_fraction_leaf=0.0,\n",
       "            presort=False, random_state=209652396, splitter='best'),\n",
       " DecisionTreeRegressor(criterion='mse', max_depth=None, max_features='auto',\n",
       "            max_leaf_nodes=None, min_impurity_decrease=0.0,\n",
       "            min_impurity_split=None, min_samples_leaf=1,\n",
       "            min_samples_split=2, min_weight_fraction_leaf=0.0,\n",
       "            presort=False, random_state=398764591, splitter='best'),\n",
       " DecisionTreeRegressor(criterion='mse', max_depth=None, max_features='auto',\n",
       "            max_leaf_nodes=None, min_impurity_decrease=0.0,\n",
       "            min_impurity_split=None, min_samples_leaf=1,\n",
       "            min_samples_split=2, min_weight_fraction_leaf=0.0,\n",
       "            presort=False, random_state=924231285, splitter='best'),\n",
       " DecisionTreeRegressor(criterion='mse', max_depth=None, max_features='auto',\n",
       "            max_leaf_nodes=None, min_impurity_decrease=0.0,\n",
       "            min_impurity_split=None, min_samples_leaf=1,\n",
       "            min_samples_split=2, min_weight_fraction_leaf=0.0,\n",
       "            presort=False, random_state=1478610112, splitter='best'),\n",
       " DecisionTreeRegressor(criterion='mse', max_depth=None, max_features='auto',\n",
       "            max_leaf_nodes=None, min_impurity_decrease=0.0,\n",
       "            min_impurity_split=None, min_samples_leaf=1,\n",
       "            min_samples_split=2, min_weight_fraction_leaf=0.0,\n",
       "            presort=False, random_state=441365315, splitter='best'),\n",
       " DecisionTreeRegressor(criterion='mse', max_depth=None, max_features='auto',\n",
       "            max_leaf_nodes=None, min_impurity_decrease=0.0,\n",
       "            min_impurity_split=None, min_samples_leaf=1,\n",
       "            min_samples_split=2, min_weight_fraction_leaf=0.0,\n",
       "            presort=False, random_state=1537364731, splitter='best'),\n",
       " DecisionTreeRegressor(criterion='mse', max_depth=None, max_features='auto',\n",
       "            max_leaf_nodes=None, min_impurity_decrease=0.0,\n",
       "            min_impurity_split=None, min_samples_leaf=1,\n",
       "            min_samples_split=2, min_weight_fraction_leaf=0.0,\n",
       "            presort=False, random_state=192771779, splitter='best'),\n",
       " DecisionTreeRegressor(criterion='mse', max_depth=None, max_features='auto',\n",
       "            max_leaf_nodes=None, min_impurity_decrease=0.0,\n",
       "            min_impurity_split=None, min_samples_leaf=1,\n",
       "            min_samples_split=2, min_weight_fraction_leaf=0.0,\n",
       "            presort=False, random_state=1491434855, splitter='best'),\n",
       " DecisionTreeRegressor(criterion='mse', max_depth=None, max_features='auto',\n",
       "            max_leaf_nodes=None, min_impurity_decrease=0.0,\n",
       "            min_impurity_split=None, min_samples_leaf=1,\n",
       "            min_samples_split=2, min_weight_fraction_leaf=0.0,\n",
       "            presort=False, random_state=1819583497, splitter='best'),\n",
       " DecisionTreeRegressor(criterion='mse', max_depth=None, max_features='auto',\n",
       "            max_leaf_nodes=None, min_impurity_decrease=0.0,\n",
       "            min_impurity_split=None, min_samples_leaf=1,\n",
       "            min_samples_split=2, min_weight_fraction_leaf=0.0,\n",
       "            presort=False, random_state=530702035, splitter='best'),\n",
       " DecisionTreeRegressor(criterion='mse', max_depth=None, max_features='auto',\n",
       "            max_leaf_nodes=None, min_impurity_decrease=0.0,\n",
       "            min_impurity_split=None, min_samples_leaf=1,\n",
       "            min_samples_split=2, min_weight_fraction_leaf=0.0,\n",
       "            presort=False, random_state=626610453, splitter='best'),\n",
       " DecisionTreeRegressor(criterion='mse', max_depth=None, max_features='auto',\n",
       "            max_leaf_nodes=None, min_impurity_decrease=0.0,\n",
       "            min_impurity_split=None, min_samples_leaf=1,\n",
       "            min_samples_split=2, min_weight_fraction_leaf=0.0,\n",
       "            presort=False, random_state=1650906866, splitter='best'),\n",
       " DecisionTreeRegressor(criterion='mse', max_depth=None, max_features='auto',\n",
       "            max_leaf_nodes=None, min_impurity_decrease=0.0,\n",
       "            min_impurity_split=None, min_samples_leaf=1,\n",
       "            min_samples_split=2, min_weight_fraction_leaf=0.0,\n",
       "            presort=False, random_state=1879422756, splitter='best'),\n",
       " DecisionTreeRegressor(criterion='mse', max_depth=None, max_features='auto',\n",
       "            max_leaf_nodes=None, min_impurity_decrease=0.0,\n",
       "            min_impurity_split=None, min_samples_leaf=1,\n",
       "            min_samples_split=2, min_weight_fraction_leaf=0.0,\n",
       "            presort=False, random_state=1277901399, splitter='best'),\n",
       " DecisionTreeRegressor(criterion='mse', max_depth=None, max_features='auto',\n",
       "            max_leaf_nodes=None, min_impurity_decrease=0.0,\n",
       "            min_impurity_split=None, min_samples_leaf=1,\n",
       "            min_samples_split=2, min_weight_fraction_leaf=0.0,\n",
       "            presort=False, random_state=1682652230, splitter='best'),\n",
       " DecisionTreeRegressor(criterion='mse', max_depth=None, max_features='auto',\n",
       "            max_leaf_nodes=None, min_impurity_decrease=0.0,\n",
       "            min_impurity_split=None, min_samples_leaf=1,\n",
       "            min_samples_split=2, min_weight_fraction_leaf=0.0,\n",
       "            presort=False, random_state=243580376, splitter='best'),\n",
       " DecisionTreeRegressor(criterion='mse', max_depth=None, max_features='auto',\n",
       "            max_leaf_nodes=None, min_impurity_decrease=0.0,\n",
       "            min_impurity_split=None, min_samples_leaf=1,\n",
       "            min_samples_split=2, min_weight_fraction_leaf=0.0,\n",
       "            presort=False, random_state=1991416408, splitter='best'),\n",
       " DecisionTreeRegressor(criterion='mse', max_depth=None, max_features='auto',\n",
       "            max_leaf_nodes=None, min_impurity_decrease=0.0,\n",
       "            min_impurity_split=None, min_samples_leaf=1,\n",
       "            min_samples_split=2, min_weight_fraction_leaf=0.0,\n",
       "            presort=False, random_state=1171049868, splitter='best'),\n",
       " DecisionTreeRegressor(criterion='mse', max_depth=None, max_features='auto',\n",
       "            max_leaf_nodes=None, min_impurity_decrease=0.0,\n",
       "            min_impurity_split=None, min_samples_leaf=1,\n",
       "            min_samples_split=2, min_weight_fraction_leaf=0.0,\n",
       "            presort=False, random_state=1646868794, splitter='best'),\n",
       " DecisionTreeRegressor(criterion='mse', max_depth=None, max_features='auto',\n",
       "            max_leaf_nodes=None, min_impurity_decrease=0.0,\n",
       "            min_impurity_split=None, min_samples_leaf=1,\n",
       "            min_samples_split=2, min_weight_fraction_leaf=0.0,\n",
       "            presort=False, random_state=2051556033, splitter='best')]"
      ]
     },
     "execution_count": 34,
     "metadata": {},
     "output_type": "execute_result"
    }
   ],
   "source": [
    "#[estimator.tree_.max_depth for estimator in rand_forest_model.estimators_]\n",
    "n_estimators = rand_forest_model.estimators_\n",
    "n_estimators"
   ]
  },
  {
   "cell_type": "markdown",
   "metadata": {},
   "source": [
    "# 3. Artificial Neural Network"
   ]
  },
  {
   "cell_type": "code",
   "execution_count": 25,
   "metadata": {},
   "outputs": [
    {
     "name": "stdout",
     "output_type": "stream",
     "text": [
      "Iteration 1, loss = 0.00156291\n",
      "Iteration 2, loss = 0.00093888\n",
      "Iteration 3, loss = 0.00085470\n",
      "Iteration 4, loss = 0.00077434\n",
      "Iteration 5, loss = 0.00072570\n",
      "Iteration 6, loss = 0.00069599\n",
      "Iteration 7, loss = 0.00058607\n",
      "Iteration 8, loss = 0.00048630\n",
      "Iteration 9, loss = 0.00045844\n",
      "Iteration 10, loss = 0.00044591\n",
      "Iteration 11, loss = 0.00044050\n",
      "Iteration 12, loss = 0.00043610\n",
      "Iteration 13, loss = 0.00043152\n",
      "Iteration 14, loss = 0.00043013\n",
      "Iteration 15, loss = 0.00042752\n",
      "Iteration 16, loss = 0.00042641\n",
      "Iteration 17, loss = 0.00042420\n",
      "Iteration 18, loss = 0.00042269\n",
      "Iteration 19, loss = 0.00041758\n",
      "Iteration 20, loss = 0.00041041\n",
      "Iteration 21, loss = 0.00040167\n",
      "Iteration 22, loss = 0.00039725\n",
      "Iteration 23, loss = 0.00039688\n",
      "Iteration 24, loss = 0.00039342\n",
      "Iteration 25, loss = 0.00039272\n",
      "Iteration 26, loss = 0.00039278\n",
      "Iteration 27, loss = 0.00039244\n",
      "Iteration 28, loss = 0.00039106\n",
      "Iteration 29, loss = 0.00039070\n",
      "Iteration 30, loss = 0.00038967\n",
      "Iteration 31, loss = 0.00038888\n",
      "Iteration 32, loss = 0.00038742\n",
      "Iteration 33, loss = 0.00038802\n",
      "Iteration 34, loss = 0.00038816\n",
      "Iteration 35, loss = 0.00038768\n",
      "Iteration 36, loss = 0.00038644\n",
      "Iteration 37, loss = 0.00038723\n",
      "Iteration 38, loss = 0.00038513\n",
      "Iteration 39, loss = 0.00038546\n",
      "Iteration 40, loss = 0.00038581\n",
      "Iteration 41, loss = 0.00038478\n",
      "Iteration 42, loss = 0.00038369\n",
      "Iteration 43, loss = 0.00038307\n",
      "Iteration 44, loss = 0.00038288\n",
      "Iteration 45, loss = 0.00037969\n",
      "Iteration 46, loss = 0.00037875\n",
      "Iteration 47, loss = 0.00037479\n",
      "Iteration 48, loss = 0.00037405\n",
      "Iteration 49, loss = 0.00037157\n",
      "Iteration 50, loss = 0.00036873\n",
      "Iteration 51, loss = 0.00036772\n",
      "Iteration 52, loss = 0.00036642\n",
      "Iteration 53, loss = 0.00036369\n",
      "Iteration 54, loss = 0.00036311\n",
      "Iteration 55, loss = 0.00035995\n",
      "Iteration 56, loss = 0.00035727\n",
      "Iteration 57, loss = 0.00035330\n",
      "Iteration 58, loss = 0.00034631\n",
      "Iteration 59, loss = 0.00034247\n",
      "Iteration 60, loss = 0.00033342\n",
      "Iteration 61, loss = 0.00032307\n",
      "Iteration 62, loss = 0.00031068\n",
      "Iteration 63, loss = 0.00028620\n",
      "Iteration 64, loss = 0.00025720\n",
      "Iteration 65, loss = 0.00024221\n",
      "Iteration 66, loss = 0.00023135\n",
      "Iteration 67, loss = 0.00022590\n",
      "Iteration 68, loss = 0.00022133\n",
      "Iteration 69, loss = 0.00021848\n",
      "Iteration 70, loss = 0.00021618\n",
      "Iteration 71, loss = 0.00021400\n",
      "Iteration 72, loss = 0.00021121\n",
      "Iteration 73, loss = 0.00021107\n",
      "Iteration 74, loss = 0.00020914\n",
      "Iteration 75, loss = 0.00020836\n",
      "Iteration 76, loss = 0.00020798\n",
      "Iteration 77, loss = 0.00020720\n",
      "Iteration 78, loss = 0.00020615\n",
      "Iteration 79, loss = 0.00020624\n",
      "Iteration 80, loss = 0.00020639\n",
      "Iteration 81, loss = 0.00020452\n",
      "Iteration 82, loss = 0.00020562\n",
      "Iteration 83, loss = 0.00020476\n",
      "Iteration 84, loss = 0.00020430\n",
      "Iteration 85, loss = 0.00020486\n",
      "Iteration 86, loss = 0.00020366\n",
      "Iteration 87, loss = 0.00020358\n",
      "Iteration 88, loss = 0.00020372\n",
      "Iteration 89, loss = 0.00020317\n",
      "Iteration 90, loss = 0.00020274\n",
      "Iteration 91, loss = 0.00020333\n",
      "Iteration 92, loss = 0.00020334\n",
      "Iteration 93, loss = 0.00020306\n",
      "Iteration 94, loss = 0.00020183\n",
      "Iteration 95, loss = 0.00020168\n",
      "Iteration 96, loss = 0.00020228\n",
      "Iteration 97, loss = 0.00020119\n",
      "Iteration 98, loss = 0.00020167\n",
      "Iteration 99, loss = 0.00020132\n",
      "Iteration 100, loss = 0.00020108\n",
      "Iteration 101, loss = 0.00020123\n",
      "Iteration 102, loss = 0.00020146\n",
      "Iteration 103, loss = 0.00020164\n",
      "Iteration 104, loss = 0.00020135\n",
      "Iteration 105, loss = 0.00020100\n",
      "Iteration 106, loss = 0.00020070\n",
      "Iteration 107, loss = 0.00020077\n",
      "Iteration 108, loss = 0.00020002\n",
      "Iteration 109, loss = 0.00020021\n",
      "Iteration 110, loss = 0.00020027\n",
      "Iteration 111, loss = 0.00020092\n",
      "Iteration 112, loss = 0.00020053\n",
      "Iteration 113, loss = 0.00020011\n",
      "Iteration 114, loss = 0.00020041\n",
      "Iteration 115, loss = 0.00019995\n",
      "Iteration 116, loss = 0.00020010\n",
      "Iteration 117, loss = 0.00019960\n",
      "Iteration 118, loss = 0.00020044\n",
      "Iteration 119, loss = 0.00019904\n",
      "Iteration 120, loss = 0.00019950\n",
      "Iteration 121, loss = 0.00019931\n",
      "Iteration 122, loss = 0.00019936\n",
      "Iteration 123, loss = 0.00019912\n",
      "Iteration 124, loss = 0.00019910\n",
      "Iteration 125, loss = 0.00019887\n",
      "Iteration 126, loss = 0.00019895\n",
      "Iteration 127, loss = 0.00019951\n",
      "Iteration 128, loss = 0.00019912\n",
      "Iteration 129, loss = 0.00019919\n",
      "Iteration 130, loss = 0.00019895\n",
      "Iteration 131, loss = 0.00019895\n",
      "Iteration 132, loss = 0.00019942\n",
      "Iteration 133, loss = 0.00019880\n",
      "Iteration 134, loss = 0.00019920\n",
      "Iteration 135, loss = 0.00019956\n",
      "Iteration 136, loss = 0.00019938\n",
      "Iteration 137, loss = 0.00019785\n",
      "Iteration 138, loss = 0.00019913\n",
      "Iteration 139, loss = 0.00019812\n",
      "Iteration 140, loss = 0.00019897\n",
      "Iteration 141, loss = 0.00019835\n",
      "Iteration 142, loss = 0.00019883\n",
      "Iteration 143, loss = 0.00019875\n",
      "Iteration 144, loss = 0.00019838\n",
      "Iteration 145, loss = 0.00019814\n",
      "Iteration 146, loss = 0.00019827\n",
      "Iteration 147, loss = 0.00019772\n",
      "Iteration 148, loss = 0.00019787\n",
      "Iteration 149, loss = 0.00019853\n",
      "Iteration 150, loss = 0.00019871\n",
      "Iteration 151, loss = 0.00019806\n",
      "Iteration 152, loss = 0.00019819\n",
      "Iteration 153, loss = 0.00019797\n",
      "Iteration 154, loss = 0.00019777\n",
      "Iteration 155, loss = 0.00019742\n",
      "Iteration 156, loss = 0.00019813\n",
      "Iteration 157, loss = 0.00019778\n",
      "Iteration 158, loss = 0.00019781\n",
      "Iteration 159, loss = 0.00019767\n",
      "Iteration 160, loss = 0.00019790\n",
      "Iteration 161, loss = 0.00019756\n",
      "Iteration 162, loss = 0.00019792\n",
      "Iteration 163, loss = 0.00019743\n",
      "Iteration 164, loss = 0.00019802\n",
      "Iteration 165, loss = 0.00019786\n",
      "Iteration 166, loss = 0.00019752\n",
      "Iteration 167, loss = 0.00019733\n",
      "Iteration 168, loss = 0.00019703\n",
      "Iteration 169, loss = 0.00019779\n",
      "Iteration 170, loss = 0.00019755\n",
      "Iteration 171, loss = 0.00019696\n",
      "Iteration 172, loss = 0.00019781\n",
      "Iteration 173, loss = 0.00019772\n",
      "Iteration 174, loss = 0.00019737\n",
      "Iteration 175, loss = 0.00019801\n",
      "Iteration 176, loss = 0.00019792\n",
      "Iteration 177, loss = 0.00019687\n",
      "Iteration 178, loss = 0.00019687\n",
      "Iteration 179, loss = 0.00019761\n",
      "Iteration 180, loss = 0.00019689\n",
      "Iteration 181, loss = 0.00019785\n",
      "Iteration 182, loss = 0.00019701\n",
      "Iteration 183, loss = 0.00019757\n",
      "Iteration 184, loss = 0.00019741\n",
      "Iteration 185, loss = 0.00019685\n",
      "Iteration 186, loss = 0.00019809\n",
      "Iteration 187, loss = 0.00019686\n",
      "Iteration 188, loss = 0.00019741\n",
      "Iteration 189, loss = 0.00019686\n",
      "Iteration 190, loss = 0.00019750\n",
      "Iteration 191, loss = 0.00019734\n",
      "Iteration 192, loss = 0.00019644\n",
      "Iteration 193, loss = 0.00019702\n",
      "Iteration 194, loss = 0.00019688\n",
      "Iteration 195, loss = 0.00019733\n",
      "Iteration 196, loss = 0.00019643\n",
      "Iteration 197, loss = 0.00019709\n",
      "Iteration 198, loss = 0.00019664\n",
      "Iteration 199, loss = 0.00019714\n",
      "Iteration 200, loss = 0.00019674\n",
      "Iteration 201, loss = 0.00019697\n",
      "Iteration 202, loss = 0.00019691\n",
      "Iteration 203, loss = 0.00019649\n",
      "Iteration 204, loss = 0.00019725\n",
      "Iteration 205, loss = 0.00019666\n",
      "Iteration 206, loss = 0.00019640\n",
      "Iteration 207, loss = 0.00019728\n",
      "Iteration 208, loss = 0.00019662\n",
      "Iteration 209, loss = 0.00019713\n",
      "Iteration 210, loss = 0.00019694\n",
      "Iteration 211, loss = 0.00019696\n",
      "Iteration 212, loss = 0.00019644\n",
      "Iteration 213, loss = 0.00019651\n",
      "Iteration 214, loss = 0.00019631\n",
      "Iteration 215, loss = 0.00019635\n",
      "Iteration 216, loss = 0.00019708\n",
      "Iteration 217, loss = 0.00019670\n",
      "Iteration 218, loss = 0.00019598\n",
      "Iteration 219, loss = 0.00019678\n",
      "Iteration 220, loss = 0.00019650\n",
      "Iteration 221, loss = 0.00019547\n",
      "Iteration 222, loss = 0.00019643\n",
      "Iteration 223, loss = 0.00019643\n",
      "Iteration 224, loss = 0.00019637\n",
      "Iteration 225, loss = 0.00019616\n",
      "Iteration 226, loss = 0.00019584\n",
      "Iteration 227, loss = 0.00019567\n",
      "Iteration 228, loss = 0.00019593\n",
      "Iteration 229, loss = 0.00019627\n",
      "Iteration 230, loss = 0.00019585\n",
      "Iteration 231, loss = 0.00019599\n",
      "Iteration 232, loss = 0.00019557\n",
      "Iteration 233, loss = 0.00019547\n",
      "Iteration 234, loss = 0.00019483\n",
      "Iteration 235, loss = 0.00019536\n",
      "Iteration 236, loss = 0.00019529\n",
      "Iteration 237, loss = 0.00019470\n",
      "Iteration 238, loss = 0.00019487\n",
      "Iteration 239, loss = 0.00019405\n",
      "Iteration 240, loss = 0.00019301\n",
      "Iteration 241, loss = 0.00019290\n",
      "Iteration 242, loss = 0.00019220\n",
      "Iteration 243, loss = 0.00019170\n",
      "Iteration 244, loss = 0.00019091\n",
      "Iteration 245, loss = 0.00019159\n",
      "Iteration 246, loss = 0.00019142\n",
      "Iteration 247, loss = 0.00019051\n",
      "Iteration 248, loss = 0.00019021\n",
      "Iteration 249, loss = 0.00019127\n",
      "Iteration 250, loss = 0.00019000\n",
      "Iteration 251, loss = 0.00019023\n",
      "Iteration 252, loss = 0.00018992\n"
     ]
    },
    {
     "name": "stdout",
     "output_type": "stream",
     "text": [
      "Iteration 253, loss = 0.00019018\n",
      "Iteration 254, loss = 0.00019030\n",
      "Iteration 255, loss = 0.00018943\n",
      "Iteration 256, loss = 0.00018943\n",
      "Iteration 257, loss = 0.00018929\n",
      "Iteration 258, loss = 0.00018996\n",
      "Iteration 259, loss = 0.00018919\n",
      "Iteration 260, loss = 0.00018892\n",
      "Iteration 261, loss = 0.00018965\n",
      "Iteration 262, loss = 0.00018952\n",
      "Iteration 263, loss = 0.00018927\n",
      "Iteration 264, loss = 0.00018915\n",
      "Iteration 265, loss = 0.00018882\n",
      "Iteration 266, loss = 0.00018933\n",
      "Iteration 267, loss = 0.00018925\n",
      "Iteration 268, loss = 0.00018875\n",
      "Iteration 269, loss = 0.00018841\n",
      "Iteration 270, loss = 0.00018899\n",
      "Iteration 271, loss = 0.00018824\n",
      "Iteration 272, loss = 0.00018871\n",
      "Iteration 273, loss = 0.00018933\n",
      "Iteration 274, loss = 0.00018814\n",
      "Iteration 275, loss = 0.00018865\n",
      "Iteration 276, loss = 0.00018866\n",
      "Iteration 277, loss = 0.00018793\n",
      "Iteration 278, loss = 0.00018805\n",
      "Iteration 279, loss = 0.00018905\n",
      "Iteration 280, loss = 0.00018787\n",
      "Iteration 281, loss = 0.00018877\n",
      "Iteration 282, loss = 0.00018802\n",
      "Iteration 283, loss = 0.00018823\n",
      "Iteration 284, loss = 0.00018806\n",
      "Iteration 285, loss = 0.00018828\n",
      "Iteration 286, loss = 0.00018794\n",
      "Iteration 287, loss = 0.00018817\n",
      "Iteration 288, loss = 0.00018763\n",
      "Iteration 289, loss = 0.00018818\n",
      "Iteration 290, loss = 0.00018790\n",
      "Iteration 291, loss = 0.00018800\n",
      "Iteration 292, loss = 0.00018745\n",
      "Iteration 293, loss = 0.00018707\n",
      "Iteration 294, loss = 0.00018761\n",
      "Iteration 295, loss = 0.00018723\n",
      "Iteration 296, loss = 0.00018742\n",
      "Iteration 297, loss = 0.00018736\n",
      "Iteration 298, loss = 0.00018690\n",
      "Iteration 299, loss = 0.00018672\n",
      "Iteration 300, loss = 0.00018781\n"
     ]
    },
    {
     "name": "stderr",
     "output_type": "stream",
     "text": [
      "C:\\Users\\bhavy\\Anaconda3\\lib\\site-packages\\sklearn\\neural_network\\multilayer_perceptron.py:562: ConvergenceWarning: Stochastic Optimizer: Maximum iterations (300) reached and the optimization hasn't converged yet.\n",
      "  % self.max_iter, ConvergenceWarning)\n"
     ]
    }
   ],
   "source": [
    "nn_model = MLPRegressor(hidden_layer_sizes=(10,4),\n",
    "                                    activation='relu', # activation function in the nodes of the neral net\n",
    "                                    solver='adam', # optimizer algorithm\n",
    "                                    learning_rate='constant',\n",
    "                                    learning_rate_init=0.001, # initial learning rate\n",
    "                                    max_iter=300, # max iterations to train for\n",
    "                                    tol = -1, # tolerance for when to stop training should be range 0.001 to 0.0000001, -1 for max_iter\n",
    "                                    shuffle=True,\n",
    "                                    verbose=True) # show details at each iteration\n",
    "nn_model = nn_model.fit(x_train, y_train.values.ravel())"
   ]
  },
  {
   "cell_type": "code",
   "execution_count": 26,
   "metadata": {},
   "outputs": [
    {
     "data": {
      "image/png": "[encoded data removed]",
      "text/plain": [
       "<Figure size 1296x360 with 1 Axes>"
      ]
     },
     "metadata": {
      "needs_background": "light"
     },
     "output_type": "display_data"
    },
    {
     "name": "stdout",
     "output_type": "stream",
     "text": [
      "Root Mean Squared Error: [0.01850547]\n",
      "Mean Absolute Error [0.0133102]\n",
      "Mean Absolute Percentage Error [6.70938937]\n"
     ]
    }
   ],
   "source": [
    "nn_model_predictions = nn_model.predict(x_test)\n",
    "nn_model_metrics = view_metrics(y_test, nn_model_predictions,'Neural Network Regression Model', samples = 50, total_samples=2000)"
   ]
  },
  {
   "cell_type": "markdown",
   "metadata": {},
   "source": [
    "# Model Comparison"
   ]
  },
  {
   "cell_type": "code",
   "execution_count": 35,
   "metadata": {},
   "outputs": [
    {
     "name": "stdout",
     "output_type": "stream",
     "text": [
      "     MODEL |    RMSE |     MAE |    MAPE\n",
      "___________________________________________\n",
      "   LIN_REG | 0.04629 | 0.03710 | 20.36769 %\n",
      " RAND_FRST | 0.02229 | 0.01424 | 7.44637 %\n",
      "        NN | 0.01851 | 0.01331 | 6.70939 %\n",
      "\n"
     ]
    }
   ],
   "source": [
    "print(\"%10s | %7s | %7s | %7s\" % ('MODEL', 'RMSE', 'MAE', 'MAPE'))\n",
    "print('___________________________________________')\n",
    "for name,metrics in zip(['LIN_REG','RAND_FRST','NN'],[lin_reg_model_metrics, rand_forest_model_metrics, nn_model_metrics]):\n",
    "    print (\"%10s | %.5f | %.5f | %.5f %%\" % (name, metrics[0][0], metrics[1][0], metrics[2][0]))\n",
    "print()\n",
    "#print('Note: Lower values are better')"
   ]
  },
  {
   "cell_type": "markdown",
   "metadata": {},
   "source": [
    "# Predicting interest rates"
   ]
  },
  {
   "cell_type": "code",
   "execution_count": 28,
   "metadata": {},
   "outputs": [],
   "source": [
    "#returns the predicted value multiplied by the range\n",
    "def get_interest_rate(model, features):\n",
    "    return (model.predict(features))*(max_rate-min_rate) + min_rate"
   ]
  },
  {
   "cell_type": "code",
   "execution_count": 29,
   "metadata": {},
   "outputs": [
    {
     "name": "stdout",
     "output_type": "stream",
     "text": [
      "Predicted interest rate is: [13.16302049]\n",
      "for the following user profile:\n"
     ]
    },
    {
     "data": {
      "text/html": [
       "<div>\n",
       "<style scoped>\n",
       "    .dataframe tbody tr th:only-of-type {\n",
       "        vertical-align: middle;\n",
       "    }\n",
       "\n",
       "    .dataframe tbody tr th {\n",
       "        vertical-align: top;\n",
       "    }\n",
       "\n",
       "    .dataframe thead th {\n",
       "        text-align: right;\n",
       "    }\n",
       "</style>\n",
       "<table border=\"1\" class=\"dataframe\">\n",
       "  <thead>\n",
       "    <tr style=\"text-align: right;\">\n",
       "      <th></th>\n",
       "      <th>Unnamed: 0</th>\n",
       "      <th>id</th>\n",
       "      <th>loan_amnt</th>\n",
       "      <th>funded_amnt</th>\n",
       "      <th>funded_amnt_inv</th>\n",
       "      <th>term</th>\n",
       "      <th>installment</th>\n",
       "      <th>grade</th>\n",
       "      <th>emp_length</th>\n",
       "      <th>home_ownership</th>\n",
       "      <th>...</th>\n",
       "      <th>total_bal_il</th>\n",
       "      <th>il_util</th>\n",
       "      <th>open_rv_12m</th>\n",
       "      <th>open_rv_24m</th>\n",
       "      <th>max_bal_bc</th>\n",
       "      <th>all_util</th>\n",
       "      <th>total_rev_hi_lim</th>\n",
       "      <th>inq_fi</th>\n",
       "      <th>total_cu_tl</th>\n",
       "      <th>inq_last_12m</th>\n",
       "    </tr>\n",
       "  </thead>\n",
       "  <tbody>\n",
       "    <tr>\n",
       "      <th>494997</th>\n",
       "      <td>0.55782</td>\n",
       "      <td>0.968446</td>\n",
       "      <td>0.565217</td>\n",
       "      <td>0.565217</td>\n",
       "      <td>0.571429</td>\n",
       "      <td>0.0</td>\n",
       "      <td>0.470391</td>\n",
       "      <td>0.333333</td>\n",
       "      <td>0.9</td>\n",
       "      <td>0.2</td>\n",
       "      <td>...</td>\n",
       "      <td>0.0</td>\n",
       "      <td>0.0</td>\n",
       "      <td>0.0</td>\n",
       "      <td>0.0</td>\n",
       "      <td>0.0</td>\n",
       "      <td>0.0</td>\n",
       "      <td>0.00125</td>\n",
       "      <td>0.0</td>\n",
       "      <td>0.0</td>\n",
       "      <td>0.111111</td>\n",
       "    </tr>\n",
       "  </tbody>\n",
       "</table>\n",
       "<p>1 rows × 56 columns</p>\n",
       "</div>"
      ],
      "text/plain": [
       "        Unnamed: 0        id  loan_amnt  funded_amnt  funded_amnt_inv  term  \\\n",
       "494997     0.55782  0.968446   0.565217     0.565217         0.571429   0.0   \n",
       "\n",
       "        installment     grade  emp_length  home_ownership      ...       \\\n",
       "494997     0.470391  0.333333         0.9             0.2      ...        \n",
       "\n",
       "        total_bal_il  il_util  open_rv_12m  open_rv_24m  max_bal_bc  all_util  \\\n",
       "494997           0.0      0.0          0.0          0.0         0.0       0.0   \n",
       "\n",
       "        total_rev_hi_lim  inq_fi  total_cu_tl  inq_last_12m  \n",
       "494997           0.00125     0.0          0.0      0.111111  \n",
       "\n",
       "[1 rows x 56 columns]"
      ]
     },
     "execution_count": 29,
     "metadata": {},
     "output_type": "execute_result"
    }
   ],
   "source": [
    "sample = x_test[2:3] # substitute with the input you want to predict the rate for\n",
    "interest_rate = get_interest_rate(rand_forest_model, sample)\n",
    "print('Predicted interest rate is:', interest_rate)\n",
    "print('for the following user profile:')\n",
    "sample"
   ]
  },
  {
   "cell_type": "markdown",
   "metadata": {},
   "source": [
    "# Model Performance with 5-Fold Cross Validation - Linear Regression\n",
    "\n",
    "K-Fold CV splits given data into a K number of sections/folds where each fold is used as a testing set at some point.\n",
    "\n",
    "Here, the data set is split into 5 folds. \n",
    "\n",
    "In the first iteration, the first fold is used to test the model and the rest are used to train the model. In the second iteration, 2nd fold is used as the testing set while the rest serve as the training set. This process is repeated until each fold of the 5 folds have been used as the testing set."
   ]
  },
  {
   "cell_type": "code",
   "execution_count": 65,
   "metadata": {},
   "outputs": [
    {
     "name": "stdout",
     "output_type": "stream",
     "text": [
      "Train Index:  [177476 177477 177478 ... 887376 887377 887378] \n",
      "\n",
      "Test Index:  [     0      1      2 ... 177473 177474 177475]\n"
     ]
    },
    {
     "data": {
      "image/png": "[encoded data removed]",
      "text/plain": [
       "<Figure size 1296x360 with 1 Axes>"
      ]
     },
     "metadata": {
      "needs_background": "light"
     },
     "output_type": "display_data"
    },
    {
     "name": "stdout",
     "output_type": "stream",
     "text": [
      "Root Mean Squared Error: [0.04635371]\n",
      "Mean Absolute Error [0.03728547]\n",
      "Mean Absolute Percentage Error [20.2590529]\n",
      "Train Index:  [     0      1      2 ... 887376 887377 887378] \n",
      "\n",
      "Test Index:  [177476 177477 177478 ... 354949 354950 354951]\n"
     ]
    },
    {
     "data": {
      "image/png": "[encoded data removed]",
      "text/plain": [
       "<Figure size 1296x360 with 1 Axes>"
      ]
     },
     "metadata": {
      "needs_background": "light"
     },
     "output_type": "display_data"
    },
    {
     "name": "stdout",
     "output_type": "stream",
     "text": [
      "Root Mean Squared Error: [0.04619486]\n",
      "Mean Absolute Error [0.03711851]\n",
      "Mean Absolute Percentage Error [20.36431381]\n",
      "Train Index:  [     0      1      2 ... 887376 887377 887378] \n",
      "\n",
      "Test Index:  [354952 354953 354954 ... 532425 532426 532427]\n"
     ]
    },
    {
     "data": {
      "image/png": "[encoded data removed]",
      "text/plain": [
       "<Figure size 1296x360 with 1 Axes>"
      ]
     },
     "metadata": {
      "needs_background": "light"
     },
     "output_type": "display_data"
    },
    {
     "name": "stdout",
     "output_type": "stream",
     "text": [
      "Root Mean Squared Error: [0.04637321]\n",
      "Mean Absolute Error [0.03725379]\n",
      "Mean Absolute Percentage Error [20.37376842]\n",
      "Train Index:  [     0      1      2 ... 887376 887377 887378] \n",
      "\n",
      "Test Index:  [532428 532429 532430 ... 709901 709902 709903]\n"
     ]
    },
    {
     "data": {
      "image/png": "[encoded data removed]",
      "text/plain": [
       "<Figure size 1296x360 with 1 Axes>"
      ]
     },
     "metadata": {
      "needs_background": "light"
     },
     "output_type": "display_data"
    },
    {
     "name": "stdout",
     "output_type": "stream",
     "text": [
      "Root Mean Squared Error: [0.04631994]\n",
      "Mean Absolute Error [0.03717904]\n",
      "Mean Absolute Percentage Error [20.51799778]\n",
      "Train Index:  [     0      1      2 ... 709901 709902 709903] \n",
      "\n",
      "Test Index:  [709904 709905 709906 ... 887376 887377 887378]\n"
     ]
    },
    {
     "data": {
      "image/png": "[encoded data removed]",
      "text/plain": [
       "<Figure size 1296x360 with 1 Axes>"
      ]
     },
     "metadata": {
      "needs_background": "light"
     },
     "output_type": "display_data"
    },
    {
     "name": "stdout",
     "output_type": "stream",
     "text": [
      "Root Mean Squared Error: [0.04629373]\n",
      "Mean Absolute Error [0.03710454]\n",
      "Mean Absolute Percentage Error [20.36722618]\n"
     ]
    }
   ],
   "source": [
    "from sklearn.model_selection import KFold\n",
    "\n",
    "scores = []\n",
    "\n",
    "y = df.iloc[:,df.columns.isin([\"int_rate\"])]\n",
    "x = df.loc[:,~df.columns.isin([\"int_rate\"])]\n",
    "\n",
    "cv = KFold(n_splits=5, random_state=42, shuffle=False)\n",
    "for train_index, test_index in cv.split(x):\n",
    "    print(\"Train Index: \", train_index, \"\\n\")\n",
    "    print(\"Test Index: \", test_index)\n",
    "\n",
    "    X_train, X_test, y_train, y_test = x.iloc[train_index], x.iloc[test_index], y.iloc[train_index], y.iloc[test_index]\n",
    "    lin_reg_model.fit(X_train, y_train)\n",
    "    scores.append(lin_reg_model.score(X_test, y_test))\n",
    "    lin_reg_model_predictions = lin_reg_model.predict(X_test) # make predictions\n",
    "    lin_reg_model_metrics = view_metrics(y_test, lin_reg_model_predictions,'Linear Regression', samples = 50, total_samples=2000)\n",
    "\n"
   ]
  },
  {
   "cell_type": "markdown",
   "metadata": {},
   "source": [
    "# Testing with custom input"
   ]
  },
  {
   "cell_type": "code",
   "execution_count": null,
   "metadata": {},
   "outputs": [],
   "source": [
    "#returns the predicted value multiplied by the range\n",
    "def get_interest_rate(model, features):\n",
    "    return (model.predict(features))*(max_rate-min_rate) + min_rate\n",
    "df = pd.read_csv(\"train_loan.csv\", low_memory =False)\n",
    "x_test = df.as_matrix()\n",
    "sample = df.iloc[:] # substitute with the input you want to predict the rate for\n",
    "interest_rate = get_interest_rate(rand_forest_model, sample)\n",
    "print('Predicted interest rate is:', interest_rate)\n",
    "print('for the following user profile:')\n",
    "sample"
   ]
  }
 ],
 "metadata": {
  "kernelspec": {
   "display_name": "Python 3",
   "language": "python",
   "name": "python3"
  },
  "language_info": {
   "codemirror_mode": {
    "name": "ipython",
    "version": 3
   },
   "file_extension": ".py",
   "mimetype": "text/x-python",
   "name": "python",
   "nbconvert_exporter": "python",
   "pygments_lexer": "ipython3",
   "version": "3.7.1"
  }
 },
 "nbformat": 4,
 "nbformat_minor": 2
}
