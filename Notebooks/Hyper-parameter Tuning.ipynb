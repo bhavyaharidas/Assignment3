{
 "cells": [
  {
   "cell_type": "code",
   "execution_count": 1,
   "metadata": {},
   "outputs": [],
   "source": [
    "# for numerical analysis and data processing\n",
    "import numpy as np\n",
    "import pandas as pd\n",
    "import itertools\n",
    "\n",
    "from IPython.display import Image\n",
    "import warnings\n",
    "warnings.filterwarnings('ignore')\n",
    "\n",
    "# for Machine learning algorithms\n",
    "from sklearn import preprocessing\n",
    "from sklearn.cluster import KMeans\n",
    "from sklearn.manifold import TSNE\n",
    "from sklearn.linear_model import LinearRegression\n",
    "from sklearn.ensemble import RandomForestRegressor\n",
    "from sklearn.neural_network import MLPRegressor\n",
    "from sklearn.metrics import mean_squared_error, mean_absolute_error\n",
    "from scipy.spatial.distance import cdist\n",
    "\n",
    "# for vizualizations\n",
    "%matplotlib inline \n",
    "import matplotlib.pyplot as plt\n",
    "from matplotlib import cm as cm\n",
    "from mpl_toolkits.mplot3d import Axes3D\n",
    "import seaborn as sns"
   ]
  },
  {
   "cell_type": "code",
   "execution_count": 2,
   "metadata": {},
   "outputs": [
    {
     "name": "stdout",
     "output_type": "stream",
     "text": [
      "5.32 28.99 23.669999999999998\n"
     ]
    }
   ],
   "source": [
    "df = df = pd.read_csv(\"Cleaned_loan.csv\", low_memory =False)\n",
    "min_rate= df['int_rate'].min()\n",
    "max_rate= df['int_rate'].max()\n",
    "print(min_rate, max_rate, max_rate- min_rate)"
   ]
  },
  {
   "cell_type": "code",
   "execution_count": 3,
   "metadata": {},
   "outputs": [],
   "source": [
    "df_max = df.max()\n",
    "df_min = df.min()\n",
    "\n",
    "df=(df-df.min())/(df.max()-df.min())"
   ]
  },
  {
   "cell_type": "code",
   "execution_count": 4,
   "metadata": {},
   "outputs": [],
   "source": [
    "df = df.iloc[np.random.permutation(len(df))]"
   ]
  },
  {
   "cell_type": "code",
   "execution_count": 5,
   "metadata": {},
   "outputs": [],
   "source": [
    "y = df.iloc[:,df.columns.isin([\"int_rate\"])]\n",
    "x = df.loc[:,~df.columns.isin([\"int_rate\"])]\n",
    "\n",
    "total_samples=len(df)\n",
    "split = 0.8\n",
    "\n",
    "x_train = x[0:int(total_samples*split)]\n",
    "x_test = x[int(total_samples*split):total_samples]\n",
    "y_train = y[0:int(total_samples*split)]\n",
    "y_test = y[int(total_samples*split):total_samples]"
   ]
  },
  {
   "cell_type": "code",
   "execution_count": 6,
   "metadata": {},
   "outputs": [],
   "source": [
    "def mean_absolute_percentage_error(y_true, y_pred): \n",
    "    '''\n",
    "    Calculates mean absolute error of the true and predicted values.\n",
    "    '''\n",
    "    y_true, y_pred = np.array(y_true), np.array(y_pred)\n",
    "    count = 0\n",
    "    sum = 0\n",
    "    for a, p in zip(y_true, y_pred):\n",
    "        if(a!=0):\n",
    "            sum+=(abs(a-p)/a)\n",
    "            count+=1\n",
    "    return (sum/count) * 100\n",
    "\n",
    "def view_metrics(y_test, predictions, algorithm, samples, total_samples):\n",
    "    '''\n",
    "    Plots the true and predicted values and prints RMS, MAE and MAPE metrics.\n",
    "    '''\n",
    "    fig = plt.figure(figsize=(18,5))\n",
    "    plt.scatter(x=[i for i in range(samples)], y=[x for x in predictions[0:samples]], label='Predicted values')\n",
    "    plt.scatter(x=[i for i in range(samples)], y=[x[0] for x in y_test.values[0:samples]], label='True values')\n",
    "    plt.title('True and Predicted values for test dataset - %s' % algorithm)\n",
    "    plt.legend()\n",
    "    plt.show()\n",
    "    \n",
    "#     fig = plt.figure(figsize=(18,5))\n",
    "#     plt.scatter(x=[i for i in range(total_samples)], y=[x for x in predictions], label='Predicted values')\n",
    "#     plt.scatter(x=[i for i in range(total_samples)], y=[x[0] for x in y_test.values], label='True values')\n",
    "#     plt.title('True and Predicted values for test dataset - %s' % algorithm)\n",
    "#     plt.legend()\n",
    "#     plt.show()\n",
    "\n",
    "    RMS =  np.sqrt(mean_squared_error(y_test, predictions, multioutput='raw_values'))\n",
    "    MAE = mean_absolute_error(y_test, predictions, multioutput='raw_values')\n",
    "    MAPE = mean_absolute_percentage_error(y_test, predictions)\n",
    "    print(\"Root Mean Squared Error:\", RMS)\n",
    "    print(\"Mean Absolute Error\", MAE) \n",
    "    print(\"Mean Absolute Percentage Error\", MAPE)\n",
    "    return RMS, MAE, MAPE"
   ]
  },
  {
   "cell_type": "markdown",
   "metadata": {},
   "source": [
    "# 1. Random Forest"
   ]
  },
  {
   "cell_type": "markdown",
   "metadata": {},
   "source": [
    "##### max_depth itself states that the max depth of tree is 5. if not specified then nodes are expanded until all leaves are pure or until all leaves contain less than min_samples_split samples.\n",
    "\n",
    "##### min_samples_split : int, float, optional (default=2)\n",
    "\n",
    "##### The minimum number of samples required to split an internal node:\n",
    "\n",
    "##### If int, then consider min_samples_split as the minimum number.\n",
    "\n",
    "##### If float, then min_samples_split is a fraction and ceil(min_samples_split * n_samples) are the minimum number of samples for each split.\n",
    " "
   ]
  },
  {
   "cell_type": "code",
   "execution_count": 9,
   "metadata": {},
   "outputs": [],
   "source": [
    "rand_forest_model = RandomForestRegressor(max_depth = 50 , n_estimators=20 ,random_state=0) # build model\n",
    "rand_forest_model = rand_forest_model.fit(x_train, y_train.values.ravel()) # train model\n",
    "RandomForestRegressor(bootstrap=True, criterion='mse', max_depth=5,\n",
    "           max_features='auto', max_leaf_nodes=None,\n",
    "           min_impurity_decrease=0.0, min_impurity_split=None,\n",
    "           min_samples_leaf=1, min_samples_split=2,\n",
    "           min_weight_fraction_leaf=0.0,  n_jobs=1,\n",
    "           oob_score=False, random_state=0, verbose=0, warm_start=False)\n",
    "feature_importance = rand_forest_model.feature_importances_\n",
    "R2 = rand_forest_model.score(x_train, y_train) # coefficient of determination\n",
    "rand_forest_model_predictions = rand_forest_model.predict(x_test) # make predictions"
   ]
  },
  {
   "cell_type": "code",
   "execution_count": 8,
   "metadata": {},
   "outputs": [
    {
     "data": {
      "image/png": "[encoded data removed]",
      "text/plain": [
       "<Figure size 1296x360 with 1 Axes>"
      ]
     },
     "metadata": {
      "needs_background": "light"
     },
     "output_type": "display_data"
    },
    {
     "name": "stdout",
     "output_type": "stream",
     "text": [
      "Root Mean Squared Error: [0.04161407]\n",
      "Mean Absolute Error [0.03435454]\n",
      "Mean Absolute Percentage Error [18.13900258]\n"
     ]
    }
   ],
   "source": [
    "rand_forest_model_metrics = view_metrics(y_test, rand_forest_model_predictions,'Random Forest Regressor', samples = 50, total_samples=2000)"
   ]
  },
  {
   "cell_type": "code",
   "execution_count": 10,
   "metadata": {},
   "outputs": [
    {
     "data": {
      "text/plain": [
       "[DecisionTreeRegressor(criterion='mse', max_depth=50, max_features='auto',\n",
       "            max_leaf_nodes=None, min_impurity_decrease=0.0,\n",
       "            min_impurity_split=None, min_samples_leaf=1,\n",
       "            min_samples_split=2, min_weight_fraction_leaf=0.0,\n",
       "            presort=False, random_state=209652396, splitter='best'),\n",
       " DecisionTreeRegressor(criterion='mse', max_depth=50, max_features='auto',\n",
       "            max_leaf_nodes=None, min_impurity_decrease=0.0,\n",
       "            min_impurity_split=None, min_samples_leaf=1,\n",
       "            min_samples_split=2, min_weight_fraction_leaf=0.0,\n",
       "            presort=False, random_state=398764591, splitter='best'),\n",
       " DecisionTreeRegressor(criterion='mse', max_depth=50, max_features='auto',\n",
       "            max_leaf_nodes=None, min_impurity_decrease=0.0,\n",
       "            min_impurity_split=None, min_samples_leaf=1,\n",
       "            min_samples_split=2, min_weight_fraction_leaf=0.0,\n",
       "            presort=False, random_state=924231285, splitter='best'),\n",
       " DecisionTreeRegressor(criterion='mse', max_depth=50, max_features='auto',\n",
       "            max_leaf_nodes=None, min_impurity_decrease=0.0,\n",
       "            min_impurity_split=None, min_samples_leaf=1,\n",
       "            min_samples_split=2, min_weight_fraction_leaf=0.0,\n",
       "            presort=False, random_state=1478610112, splitter='best'),\n",
       " DecisionTreeRegressor(criterion='mse', max_depth=50, max_features='auto',\n",
       "            max_leaf_nodes=None, min_impurity_decrease=0.0,\n",
       "            min_impurity_split=None, min_samples_leaf=1,\n",
       "            min_samples_split=2, min_weight_fraction_leaf=0.0,\n",
       "            presort=False, random_state=441365315, splitter='best'),\n",
       " DecisionTreeRegressor(criterion='mse', max_depth=50, max_features='auto',\n",
       "            max_leaf_nodes=None, min_impurity_decrease=0.0,\n",
       "            min_impurity_split=None, min_samples_leaf=1,\n",
       "            min_samples_split=2, min_weight_fraction_leaf=0.0,\n",
       "            presort=False, random_state=1537364731, splitter='best'),\n",
       " DecisionTreeRegressor(criterion='mse', max_depth=50, max_features='auto',\n",
       "            max_leaf_nodes=None, min_impurity_decrease=0.0,\n",
       "            min_impurity_split=None, min_samples_leaf=1,\n",
       "            min_samples_split=2, min_weight_fraction_leaf=0.0,\n",
       "            presort=False, random_state=192771779, splitter='best'),\n",
       " DecisionTreeRegressor(criterion='mse', max_depth=50, max_features='auto',\n",
       "            max_leaf_nodes=None, min_impurity_decrease=0.0,\n",
       "            min_impurity_split=None, min_samples_leaf=1,\n",
       "            min_samples_split=2, min_weight_fraction_leaf=0.0,\n",
       "            presort=False, random_state=1491434855, splitter='best'),\n",
       " DecisionTreeRegressor(criterion='mse', max_depth=50, max_features='auto',\n",
       "            max_leaf_nodes=None, min_impurity_decrease=0.0,\n",
       "            min_impurity_split=None, min_samples_leaf=1,\n",
       "            min_samples_split=2, min_weight_fraction_leaf=0.0,\n",
       "            presort=False, random_state=1819583497, splitter='best'),\n",
       " DecisionTreeRegressor(criterion='mse', max_depth=50, max_features='auto',\n",
       "            max_leaf_nodes=None, min_impurity_decrease=0.0,\n",
       "            min_impurity_split=None, min_samples_leaf=1,\n",
       "            min_samples_split=2, min_weight_fraction_leaf=0.0,\n",
       "            presort=False, random_state=530702035, splitter='best'),\n",
       " DecisionTreeRegressor(criterion='mse', max_depth=50, max_features='auto',\n",
       "            max_leaf_nodes=None, min_impurity_decrease=0.0,\n",
       "            min_impurity_split=None, min_samples_leaf=1,\n",
       "            min_samples_split=2, min_weight_fraction_leaf=0.0,\n",
       "            presort=False, random_state=626610453, splitter='best'),\n",
       " DecisionTreeRegressor(criterion='mse', max_depth=50, max_features='auto',\n",
       "            max_leaf_nodes=None, min_impurity_decrease=0.0,\n",
       "            min_impurity_split=None, min_samples_leaf=1,\n",
       "            min_samples_split=2, min_weight_fraction_leaf=0.0,\n",
       "            presort=False, random_state=1650906866, splitter='best'),\n",
       " DecisionTreeRegressor(criterion='mse', max_depth=50, max_features='auto',\n",
       "            max_leaf_nodes=None, min_impurity_decrease=0.0,\n",
       "            min_impurity_split=None, min_samples_leaf=1,\n",
       "            min_samples_split=2, min_weight_fraction_leaf=0.0,\n",
       "            presort=False, random_state=1879422756, splitter='best'),\n",
       " DecisionTreeRegressor(criterion='mse', max_depth=50, max_features='auto',\n",
       "            max_leaf_nodes=None, min_impurity_decrease=0.0,\n",
       "            min_impurity_split=None, min_samples_leaf=1,\n",
       "            min_samples_split=2, min_weight_fraction_leaf=0.0,\n",
       "            presort=False, random_state=1277901399, splitter='best'),\n",
       " DecisionTreeRegressor(criterion='mse', max_depth=50, max_features='auto',\n",
       "            max_leaf_nodes=None, min_impurity_decrease=0.0,\n",
       "            min_impurity_split=None, min_samples_leaf=1,\n",
       "            min_samples_split=2, min_weight_fraction_leaf=0.0,\n",
       "            presort=False, random_state=1682652230, splitter='best'),\n",
       " DecisionTreeRegressor(criterion='mse', max_depth=50, max_features='auto',\n",
       "            max_leaf_nodes=None, min_impurity_decrease=0.0,\n",
       "            min_impurity_split=None, min_samples_leaf=1,\n",
       "            min_samples_split=2, min_weight_fraction_leaf=0.0,\n",
       "            presort=False, random_state=243580376, splitter='best'),\n",
       " DecisionTreeRegressor(criterion='mse', max_depth=50, max_features='auto',\n",
       "            max_leaf_nodes=None, min_impurity_decrease=0.0,\n",
       "            min_impurity_split=None, min_samples_leaf=1,\n",
       "            min_samples_split=2, min_weight_fraction_leaf=0.0,\n",
       "            presort=False, random_state=1991416408, splitter='best'),\n",
       " DecisionTreeRegressor(criterion='mse', max_depth=50, max_features='auto',\n",
       "            max_leaf_nodes=None, min_impurity_decrease=0.0,\n",
       "            min_impurity_split=None, min_samples_leaf=1,\n",
       "            min_samples_split=2, min_weight_fraction_leaf=0.0,\n",
       "            presort=False, random_state=1171049868, splitter='best'),\n",
       " DecisionTreeRegressor(criterion='mse', max_depth=50, max_features='auto',\n",
       "            max_leaf_nodes=None, min_impurity_decrease=0.0,\n",
       "            min_impurity_split=None, min_samples_leaf=1,\n",
       "            min_samples_split=2, min_weight_fraction_leaf=0.0,\n",
       "            presort=False, random_state=1646868794, splitter='best'),\n",
       " DecisionTreeRegressor(criterion='mse', max_depth=50, max_features='auto',\n",
       "            max_leaf_nodes=None, min_impurity_decrease=0.0,\n",
       "            min_impurity_split=None, min_samples_leaf=1,\n",
       "            min_samples_split=2, min_weight_fraction_leaf=0.0,\n",
       "            presort=False, random_state=2051556033, splitter='best')]"
      ]
     },
     "execution_count": 10,
     "metadata": {},
     "output_type": "execute_result"
    }
   ],
   "source": [
    "#[estimator.tree_.max_depth for estimator in rand_forest_model.estimators_]\n",
    "n_estimators = rand_forest_model.estimators_\n",
    "n_estimators"
   ]
  },
  {
   "cell_type": "markdown",
   "metadata": {},
   "source": [
    "# 2. Artificial Neural Network\n",
    "##### (i) Learning Rate -  {‘constant’, ‘invscaling’, ‘adaptive’}, default ‘constant’\n",
    "\n",
    "##### (ii) Optimizers - \n",
    "     \n",
    "     a. Grid Search Parameter Tuning - methodically builds and evaluate a model for each combination of algorithm parameters    specified in a grid\n",
    "     \n",
    "     b. Random Search Parameter Tuning - samples algorithm parameters from a random distribution (i.e. uniform) for a fixed number of iterations. A model is constructed and evaluated for each combination of parameters chosen.\n",
    "\n",
    "##### (iii) The number of epochs is determined by the maximum number of iterations (max_iter). The solver iterates until convergence (determined by ‘tol’) or this number of iterations"
   ]
  },
  {
   "cell_type": "code",
   "execution_count": 11,
   "metadata": {},
   "outputs": [
    {
     "name": "stdout",
     "output_type": "stream",
     "text": [
      "Iteration 1, loss = 0.00322028\n",
      "Iteration 2, loss = 0.00101344\n",
      "Iteration 3, loss = 0.00094342\n",
      "Iteration 4, loss = 0.00087050\n",
      "Iteration 5, loss = 0.00074764\n",
      "Iteration 6, loss = 0.00060277\n",
      "Iteration 7, loss = 0.00050660\n",
      "Iteration 8, loss = 0.00045441\n",
      "Iteration 9, loss = 0.00042355\n",
      "Iteration 10, loss = 0.00040208\n",
      "Iteration 11, loss = 0.00038692\n",
      "Iteration 12, loss = 0.00036944\n",
      "Iteration 13, loss = 0.00034243\n",
      "Iteration 14, loss = 0.00031243\n",
      "Iteration 15, loss = 0.00028447\n",
      "Iteration 16, loss = 0.00026900\n",
      "Iteration 17, loss = 0.00026417\n",
      "Iteration 18, loss = 0.00026091\n",
      "Iteration 19, loss = 0.00025619\n",
      "Iteration 20, loss = 0.00025494\n",
      "Iteration 21, loss = 0.00025314\n",
      "Iteration 22, loss = 0.00025028\n",
      "Iteration 23, loss = 0.00024897\n",
      "Iteration 24, loss = 0.00024499\n",
      "Iteration 25, loss = 0.00024341\n",
      "Iteration 26, loss = 0.00024197\n",
      "Iteration 27, loss = 0.00024039\n",
      "Iteration 28, loss = 0.00023767\n",
      "Iteration 29, loss = 0.00023586\n",
      "Iteration 30, loss = 0.00023585\n",
      "Iteration 31, loss = 0.00023359\n",
      "Iteration 32, loss = 0.00023275\n",
      "Iteration 33, loss = 0.00023077\n",
      "Iteration 34, loss = 0.00023081\n",
      "Iteration 35, loss = 0.00023061\n",
      "Iteration 36, loss = 0.00022911\n",
      "Iteration 37, loss = 0.00022761\n",
      "Iteration 38, loss = 0.00022757\n",
      "Iteration 39, loss = 0.00022528\n",
      "Iteration 40, loss = 0.00022565\n",
      "Iteration 41, loss = 0.00022393\n",
      "Iteration 42, loss = 0.00022338\n",
      "Iteration 43, loss = 0.00022197\n",
      "Iteration 44, loss = 0.00022158\n",
      "Iteration 45, loss = 0.00022285\n",
      "Iteration 46, loss = 0.00022073\n",
      "Iteration 47, loss = 0.00021987\n",
      "Iteration 48, loss = 0.00021987\n",
      "Iteration 49, loss = 0.00021928\n",
      "Iteration 50, loss = 0.00022015\n",
      "Iteration 51, loss = 0.00021785\n",
      "Iteration 52, loss = 0.00021823\n",
      "Iteration 53, loss = 0.00021737\n",
      "Iteration 54, loss = 0.00021789\n",
      "Iteration 55, loss = 0.00021765\n",
      "Iteration 56, loss = 0.00021603\n",
      "Iteration 57, loss = 0.00021643\n",
      "Iteration 58, loss = 0.00021599\n",
      "Iteration 59, loss = 0.00021528\n",
      "Iteration 60, loss = 0.00021592\n",
      "Iteration 61, loss = 0.00021446\n",
      "Iteration 62, loss = 0.00021475\n",
      "Iteration 63, loss = 0.00021495\n",
      "Iteration 64, loss = 0.00021425\n",
      "Iteration 65, loss = 0.00021390\n",
      "Iteration 66, loss = 0.00021404\n",
      "Iteration 67, loss = 0.00021298\n",
      "Iteration 68, loss = 0.00021506\n",
      "Iteration 69, loss = 0.00021286\n",
      "Iteration 70, loss = 0.00021270\n",
      "Iteration 71, loss = 0.00021208\n",
      "Iteration 72, loss = 0.00021235\n",
      "Iteration 73, loss = 0.00021152\n",
      "Iteration 74, loss = 0.00021155\n",
      "Iteration 75, loss = 0.00020828\n",
      "Iteration 76, loss = 0.00020511\n",
      "Iteration 77, loss = 0.00020099\n",
      "Iteration 78, loss = 0.00019731\n",
      "Iteration 79, loss = 0.00019706\n",
      "Iteration 80, loss = 0.00019483\n",
      "Iteration 81, loss = 0.00019400\n",
      "Iteration 82, loss = 0.00019448\n",
      "Iteration 83, loss = 0.00019423\n",
      "Iteration 84, loss = 0.00019368\n",
      "Iteration 85, loss = 0.00019227\n",
      "Iteration 86, loss = 0.00019363\n",
      "Iteration 87, loss = 0.00019298\n",
      "Iteration 88, loss = 0.00019136\n",
      "Iteration 89, loss = 0.00019171\n",
      "Iteration 90, loss = 0.00019224\n",
      "Iteration 91, loss = 0.00019114\n",
      "Iteration 92, loss = 0.00019161\n",
      "Iteration 93, loss = 0.00019135\n",
      "Iteration 94, loss = 0.00019228\n",
      "Iteration 95, loss = 0.00019018\n",
      "Iteration 96, loss = 0.00019095\n",
      "Iteration 97, loss = 0.00019117\n",
      "Iteration 98, loss = 0.00019085\n",
      "Iteration 99, loss = 0.00019006\n",
      "Iteration 100, loss = 0.00018964\n",
      "Iteration 101, loss = 0.00019048\n",
      "Iteration 102, loss = 0.00019060\n",
      "Iteration 103, loss = 0.00018895\n",
      "Iteration 104, loss = 0.00018981\n",
      "Iteration 105, loss = 0.00018940\n",
      "Iteration 106, loss = 0.00018965\n",
      "Iteration 107, loss = 0.00018846\n",
      "Iteration 108, loss = 0.00018829\n",
      "Iteration 109, loss = 0.00018905\n",
      "Iteration 110, loss = 0.00018888\n",
      "Iteration 111, loss = 0.00018844\n",
      "Iteration 112, loss = 0.00018791\n",
      "Iteration 113, loss = 0.00018804\n",
      "Iteration 114, loss = 0.00018785\n",
      "Iteration 115, loss = 0.00018804\n",
      "Iteration 116, loss = 0.00018784\n",
      "Iteration 117, loss = 0.00018779\n",
      "Iteration 118, loss = 0.00018685\n",
      "Iteration 119, loss = 0.00018738\n",
      "Iteration 120, loss = 0.00018887\n",
      "Iteration 121, loss = 0.00018782\n",
      "Iteration 122, loss = 0.00018755\n",
      "Iteration 123, loss = 0.00018729\n",
      "Iteration 124, loss = 0.00018782\n",
      "Iteration 125, loss = 0.00018717\n",
      "Iteration 126, loss = 0.00018763\n",
      "Iteration 127, loss = 0.00018702\n",
      "Iteration 128, loss = 0.00018732\n",
      "Iteration 129, loss = 0.00018596\n",
      "Iteration 130, loss = 0.00018624\n",
      "Iteration 131, loss = 0.00018522\n",
      "Iteration 132, loss = 0.00018592\n",
      "Iteration 133, loss = 0.00018603\n",
      "Iteration 134, loss = 0.00018603\n",
      "Iteration 135, loss = 0.00018668\n",
      "Iteration 136, loss = 0.00018477\n",
      "Iteration 137, loss = 0.00018686\n",
      "Iteration 138, loss = 0.00018558\n",
      "Iteration 139, loss = 0.00018587\n",
      "Iteration 140, loss = 0.00018545\n",
      "Iteration 141, loss = 0.00018515\n",
      "Iteration 142, loss = 0.00018586\n",
      "Iteration 143, loss = 0.00018477\n",
      "Iteration 144, loss = 0.00018542\n",
      "Iteration 145, loss = 0.00018520\n",
      "Iteration 146, loss = 0.00018508\n",
      "Iteration 147, loss = 0.00018507\n",
      "Iteration 148, loss = 0.00018554\n",
      "Iteration 149, loss = 0.00018489\n",
      "Iteration 150, loss = 0.00018421\n",
      "Iteration 151, loss = 0.00018511\n",
      "Iteration 152, loss = 0.00018444\n",
      "Iteration 153, loss = 0.00018487\n",
      "Iteration 154, loss = 0.00018458\n",
      "Iteration 155, loss = 0.00018512\n",
      "Iteration 156, loss = 0.00018469\n",
      "Iteration 157, loss = 0.00018441\n",
      "Iteration 158, loss = 0.00018525\n",
      "Iteration 159, loss = 0.00018370\n",
      "Iteration 160, loss = 0.00018520\n",
      "Iteration 161, loss = 0.00018433\n",
      "Iteration 162, loss = 0.00018333\n",
      "Iteration 163, loss = 0.00018347\n",
      "Iteration 164, loss = 0.00018439\n",
      "Iteration 165, loss = 0.00018338\n",
      "Iteration 166, loss = 0.00018429\n",
      "Iteration 167, loss = 0.00018330\n",
      "Iteration 168, loss = 0.00018403\n",
      "Iteration 169, loss = 0.00018282\n",
      "Iteration 170, loss = 0.00018362\n",
      "Iteration 171, loss = 0.00018430\n",
      "Iteration 172, loss = 0.00018289\n",
      "Iteration 173, loss = 0.00018340\n",
      "Iteration 174, loss = 0.00018381\n",
      "Iteration 175, loss = 0.00018349\n",
      "Iteration 176, loss = 0.00018367\n",
      "Iteration 177, loss = 0.00018383\n",
      "Iteration 178, loss = 0.00018271\n",
      "Iteration 179, loss = 0.00018329\n",
      "Iteration 180, loss = 0.00018312\n",
      "Iteration 181, loss = 0.00018352\n",
      "Iteration 182, loss = 0.00018259\n",
      "Iteration 183, loss = 0.00018270\n",
      "Iteration 184, loss = 0.00018341\n",
      "Iteration 185, loss = 0.00018282\n",
      "Iteration 186, loss = 0.00018231\n",
      "Iteration 187, loss = 0.00018257\n",
      "Iteration 188, loss = 0.00018289\n",
      "Iteration 189, loss = 0.00018349\n",
      "Iteration 190, loss = 0.00018249\n",
      "Iteration 191, loss = 0.00018181\n",
      "Iteration 192, loss = 0.00018291\n",
      "Iteration 193, loss = 0.00018191\n",
      "Iteration 194, loss = 0.00018255\n",
      "Iteration 195, loss = 0.00018130\n",
      "Iteration 196, loss = 0.00018026\n",
      "Iteration 197, loss = 0.00017635\n",
      "Iteration 198, loss = 0.00017203\n",
      "Iteration 199, loss = 0.00016865\n",
      "Iteration 200, loss = 0.00016763\n"
     ]
    },
    {
     "name": "stderr",
     "output_type": "stream",
     "text": [
      "C:\\Users\\bhavy\\Anaconda3\\lib\\site-packages\\sklearn\\neural_network\\multilayer_perceptron.py:562: ConvergenceWarning: Stochastic Optimizer: Maximum iterations (200) reached and the optimization hasn't converged yet.\n",
      "  % self.max_iter, ConvergenceWarning)\n"
     ]
    }
   ],
   "source": [
    "nn_model = MLPRegressor(hidden_layer_sizes=(10,4),\n",
    "                                    activation='relu', # activation function in the nodes of the neral net\n",
    "                                    solver='adam', # optimizer algorithm\n",
    "                                    learning_rate='adaptive',\n",
    "                                    learning_rate_init=0.001, # initial learning rate\n",
    "                                    max_iter=200, # max iterations to train for\n",
    "                                    tol = -1, # tolerance for when to stop training should be range 0.001 to 0.0000001, -1 for max_iter\n",
    "                                    shuffle=True,\n",
    "                                    verbose=True) # show details at each iteration\n",
    "nn_model = nn_model.fit(x_train, y_train.values.ravel())"
   ]
  },
  {
   "cell_type": "code",
   "execution_count": 12,
   "metadata": {},
   "outputs": [
    {
     "data": {
      "image/png": "[encoded data removed]",
      "text/plain": [
       "<Figure size 1296x360 with 1 Axes>"
      ]
     },
     "metadata": {
      "needs_background": "light"
     },
     "output_type": "display_data"
    },
    {
     "name": "stdout",
     "output_type": "stream",
     "text": [
      "Root Mean Squared Error: [0.01778292]\n",
      "Mean Absolute Error [0.01289416]\n",
      "Mean Absolute Percentage Error [6.90784192]\n"
     ]
    }
   ],
   "source": [
    "nn_model_predictions = nn_model.predict(x_test)\n",
    "nn_model_metrics = view_metrics(y_test, nn_model_predictions,'Neural Network Regression Model', samples = 50, total_samples=2000)"
   ]
  },
  {
   "cell_type": "markdown",
   "metadata": {},
   "source": [
    "# 3. Linear Regression\n",
    "A regression model that uses L1 regularization technique is called Lasso Regression and model which uses L2 is called Ridge Regression.\n",
    "\n",
    "The key difference between these two is the penalty term.\n",
    "\n",
    "##### (i) Ridge Regression - Ridge regression adds “squared magnitude” of coefficient as penalty term to the loss function."
   ]
  },
  {
   "cell_type": "code",
   "execution_count": 14,
   "metadata": {},
   "outputs": [
    {
     "data": {
      "text/plain": [
       "Ridge(alpha=0.01, copy_X=True, fit_intercept=True, max_iter=None,\n",
       "   normalize=False, random_state=None, solver='auto', tol=0.001)"
      ]
     },
     "execution_count": 14,
     "metadata": {},
     "output_type": "execute_result"
    }
   ],
   "source": [
    "from sklearn.linear_model import Ridge\n",
    "\n",
    "# Ridge Regression Model\n",
    "rr = Ridge(alpha=0.01) # higher the alpha value, more restriction on the coefficients; low alpha > more generalization, coefficients are barely\n",
    "# restricted and in this case linear and ridge regression resembles\n",
    "rr.fit(x_train, y_train)"
   ]
  },
  {
   "cell_type": "code",
   "execution_count": 15,
   "metadata": {},
   "outputs": [
    {
     "data": {
      "image/png": "[encoded data removed]",
      "text/plain": [
       "<Figure size 1296x360 with 1 Axes>"
      ]
     },
     "metadata": {
      "needs_background": "light"
     },
     "output_type": "display_data"
    },
    {
     "name": "stdout",
     "output_type": "stream",
     "text": [
      "Root Mean Squared Error: [0.04649018]\n",
      "Mean Absolute Error [0.03726418]\n",
      "Mean Absolute Percentage Error [20.55064082]\n"
     ]
    }
   ],
   "source": [
    "rid_reg_model_predictions = rr.predict(x_test) # make predictions\n",
    "rid_reg_model_metrics = view_metrics(y_test, rid_reg_model_predictions,'Ridge Regression', samples = 50, total_samples=2000)\n",
    "## If predicted value is same as true value, the points will be overlapping. Closer the points, better is the prediction."
   ]
  },
  {
   "cell_type": "markdown",
   "metadata": {},
   "source": [
    "##### (ii) Lasso Regression - (Least Absolute Shrinkage and Selection Operator) adds “absolute value of magnitude” of coefficient as penalty term to the loss function."
   ]
  },
  {
   "cell_type": "code",
   "execution_count": 24,
   "metadata": {},
   "outputs": [],
   "source": [
    "from sklearn.linear_model import Lasso\n",
    "\n",
    "lasso = Lasso(alpha=0.01)\n",
    "lasso.fit(x_train, y_train)\n",
    "train_score=lasso.score(x_train, y_train)"
   ]
  },
  {
   "cell_type": "code",
   "execution_count": 25,
   "metadata": {},
   "outputs": [
    {
     "data": {
      "image/png": "[encoded data removed]",
      "text/plain": [
       "<Figure size 1296x360 with 1 Axes>"
      ]
     },
     "metadata": {
      "needs_background": "light"
     },
     "output_type": "display_data"
    },
    {
     "name": "stdout",
     "output_type": "stream",
     "text": [
      "Root Mean Squared Error: [0.07201117]\n",
      "Mean Absolute Error [0.05776132]\n",
      "Mean Absolute Percentage Error [36.96038408]\n"
     ]
    }
   ],
   "source": [
    "las_reg_model_predictions = lasso.predict(x_test) # make predictions\n",
    "las_reg_model_metrics = view_metrics(y_test, las_reg_model_predictions,'Lasso Regression', samples = 50, total_samples=2000)\n",
    "## If predicted value is same as true value, the points will be overlapping. Closer the points, better is the prediction."
   ]
  },
  {
   "cell_type": "markdown",
   "metadata": {},
   "source": [
    "##### (iii)Elastic Net Regression - regularized regression method that linearly combines the L1 and L2 penalties of the lasso and ridge methods"
   ]
  },
  {
   "cell_type": "code",
   "execution_count": 26,
   "metadata": {},
   "outputs": [
    {
     "data": {
      "image/png": "[encoded data removed]",
      "text/plain": [
       "<Figure size 1296x360 with 1 Axes>"
      ]
     },
     "metadata": {
      "needs_background": "light"
     },
     "output_type": "display_data"
    },
    {
     "name": "stdout",
     "output_type": "stream",
     "text": [
      "Root Mean Squared Error: [0.06375659]\n",
      "Mean Absolute Error [0.05103332]\n",
      "Mean Absolute Percentage Error [32.89731126]\n"
     ]
    }
   ],
   "source": [
    "from sklearn.linear_model import ElasticNet\n",
    "\n",
    "elastic = ElasticNet(alpha=0.01)\n",
    "elastic.fit(x_train, y_train)\n",
    "\n",
    "elas_reg_model_predictions = elastic.predict(x_test) # make predictions\n",
    "las_reg_model_metrics = view_metrics(y_test, elas_reg_model_predictions,'Elastic Net Regression', samples = 50, total_samples=2000)\n",
    "## If predicted value is same as true value, the points will be overlapping. Closer the points, better is the prediction."
   ]
  },
  {
   "cell_type": "code",
   "execution_count": null,
   "metadata": {},
   "outputs": [],
   "source": []
  }
 ],
 "metadata": {
  "kernelspec": {
   "display_name": "Python 3",
   "language": "python",
   "name": "python3"
  },
  "language_info": {
   "codemirror_mode": {
    "name": "ipython",
    "version": 3
   },
   "file_extension": ".py",
   "mimetype": "text/x-python",
   "name": "python",
   "nbconvert_exporter": "python",
   "pygments_lexer": "ipython3",
   "version": "3.7.1"
  }
 },
 "nbformat": 4,
 "nbformat_minor": 2
}
