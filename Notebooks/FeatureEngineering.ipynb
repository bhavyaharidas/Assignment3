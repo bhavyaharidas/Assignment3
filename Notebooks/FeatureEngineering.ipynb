{
 "cells": [
  {
   "cell_type": "code",
   "execution_count": 9,
   "metadata": {},
   "outputs": [],
   "source": [
    "import pandas as pd\n",
    "import numpy as np\n",
    "import matplotlib.pyplot as plt\n",
    "from sklearn.model_selection import train_test_split"
   ]
  },
  {
   "cell_type": "markdown",
   "metadata": {},
   "source": [
    "# Data Cleaning\n",
    "Read data, drop some of the most irrelevant fields and clean data to get rid of unwanted characters"
   ]
  },
  {
   "cell_type": "code",
   "execution_count": 8,
   "metadata": {},
   "outputs": [],
   "source": [
    "df = pd.read_csv(r'C:\\Users\\bhavy\\Desktop\\INFO_DS\\Project3_Data\\lending-club-loan-data\\loan.csv')\n",
    "pd.set_option('display.max_columns',None)\n",
    "df.fillna(0,inplace=True)"
   ]
  },
  {
   "cell_type": "code",
   "execution_count": 10,
   "metadata": {},
   "outputs": [],
   "source": [
    "# Drop unneccesary columns\n",
    "df = df.drop(['url', 'desc', 'policy_code', 'last_pymnt_d', 'next_pymnt_d', 'earliest_cr_line', 'emp_title','sub_grade','application_type','verification_status_joint'], axis=1)\n",
    "df = df.drop(['member_id', 'title', 'last_credit_pull_d', 'total_rec_late_fee', 'total_rec_prncp', 'zip_code','initial_list_status','pymnt_plan'], axis=1)"
   ]
  },
  {
   "cell_type": "code",
   "execution_count": 11,
   "metadata": {},
   "outputs": [],
   "source": [
    "# A helper function that converts \n",
    "# [\"a\", \"b\", \"a\", \"c\"] into\n",
    "# [1, 2, 1, 3]\n",
    "# This allows the machine learning algorithims to work on integers instead of strings\n",
    "def categorize(l):\n",
    "    uniques = sorted(list(set(l)))\n",
    "    return [uniques.index(x) + 1 for x in l]"
   ]
  },
  {
   "cell_type": "code",
   "execution_count": 12,
   "metadata": {},
   "outputs": [],
   "source": [
    "#cleaning unwanted characters\n",
    "df['emp_length'].replace(regex=True,inplace=True,to_replace=r'years',value=r'')\n",
    "df['emp_length'].replace(regex=True,inplace=True,to_replace=r'year',value=r'')\n",
    "df['emp_length'].replace(regex=True,inplace=True,to_replace=r'10+ ',value=r'10')\n",
    "df['emp_length'].replace(regex=True,inplace=True,to_replace=r'< 1',value=r'10')\n",
    "df['emp_length'] = df['emp_length'].replace('10+ ','10')\n",
    "\n",
    "df['term'].replace(regex=True,inplace=True,to_replace=r'months',value=r'')\n"
   ]
  },
  {
   "cell_type": "code",
   "execution_count": 13,
   "metadata": {},
   "outputs": [
    {
     "data": {
      "text/html": [
       "<div>\n",
       "<style scoped>\n",
       "    .dataframe tbody tr th:only-of-type {\n",
       "        vertical-align: middle;\n",
       "    }\n",
       "\n",
       "    .dataframe tbody tr th {\n",
       "        vertical-align: top;\n",
       "    }\n",
       "\n",
       "    .dataframe thead th {\n",
       "        text-align: right;\n",
       "    }\n",
       "</style>\n",
       "<table border=\"1\" class=\"dataframe\">\n",
       "  <thead>\n",
       "    <tr style=\"text-align: right;\">\n",
       "      <th></th>\n",
       "      <th>id</th>\n",
       "      <th>loan_amnt</th>\n",
       "      <th>funded_amnt</th>\n",
       "      <th>funded_amnt_inv</th>\n",
       "      <th>term</th>\n",
       "      <th>int_rate</th>\n",
       "      <th>installment</th>\n",
       "      <th>grade</th>\n",
       "      <th>emp_length</th>\n",
       "      <th>home_ownership</th>\n",
       "      <th>annual_inc</th>\n",
       "      <th>verification_status</th>\n",
       "      <th>issue_d</th>\n",
       "      <th>loan_status</th>\n",
       "      <th>pymnt_plan</th>\n",
       "      <th>purpose</th>\n",
       "      <th>addr_state</th>\n",
       "      <th>dti</th>\n",
       "      <th>delinq_2yrs</th>\n",
       "      <th>inq_last_6mths</th>\n",
       "      <th>mths_since_last_delinq</th>\n",
       "      <th>mths_since_last_record</th>\n",
       "      <th>open_acc</th>\n",
       "      <th>pub_rec</th>\n",
       "      <th>revol_bal</th>\n",
       "      <th>revol_util</th>\n",
       "      <th>total_acc</th>\n",
       "      <th>out_prncp</th>\n",
       "      <th>out_prncp_inv</th>\n",
       "      <th>total_pymnt</th>\n",
       "      <th>total_pymnt_inv</th>\n",
       "      <th>total_rec_int</th>\n",
       "      <th>recoveries</th>\n",
       "      <th>collection_recovery_fee</th>\n",
       "      <th>last_pymnt_amnt</th>\n",
       "      <th>collections_12_mths_ex_med</th>\n",
       "      <th>mths_since_last_major_derog</th>\n",
       "      <th>annual_inc_joint</th>\n",
       "      <th>dti_joint</th>\n",
       "      <th>acc_now_delinq</th>\n",
       "      <th>tot_coll_amt</th>\n",
       "      <th>tot_cur_bal</th>\n",
       "      <th>open_acc_6m</th>\n",
       "      <th>open_il_6m</th>\n",
       "      <th>open_il_12m</th>\n",
       "      <th>open_il_24m</th>\n",
       "      <th>mths_since_rcnt_il</th>\n",
       "      <th>total_bal_il</th>\n",
       "      <th>il_util</th>\n",
       "      <th>open_rv_12m</th>\n",
       "      <th>open_rv_24m</th>\n",
       "      <th>max_bal_bc</th>\n",
       "      <th>all_util</th>\n",
       "      <th>total_rev_hi_lim</th>\n",
       "      <th>inq_fi</th>\n",
       "      <th>total_cu_tl</th>\n",
       "      <th>inq_last_12m</th>\n",
       "    </tr>\n",
       "  </thead>\n",
       "  <tbody>\n",
       "    <tr>\n",
       "      <th>0</th>\n",
       "      <td>1077501</td>\n",
       "      <td>5000.0</td>\n",
       "      <td>5000.0</td>\n",
       "      <td>4975.0</td>\n",
       "      <td>36.0</td>\n",
       "      <td>10.65</td>\n",
       "      <td>162.87</td>\n",
       "      <td>2</td>\n",
       "      <td>10.0</td>\n",
       "      <td>6</td>\n",
       "      <td>24000.0</td>\n",
       "      <td>3</td>\n",
       "      <td>22</td>\n",
       "      <td>6</td>\n",
       "      <td>n</td>\n",
       "      <td>2</td>\n",
       "      <td>4</td>\n",
       "      <td>27.65</td>\n",
       "      <td>0.0</td>\n",
       "      <td>1.0</td>\n",
       "      <td>0.0</td>\n",
       "      <td>0.0</td>\n",
       "      <td>3.0</td>\n",
       "      <td>0.0</td>\n",
       "      <td>13648.0</td>\n",
       "      <td>83.7</td>\n",
       "      <td>9.0</td>\n",
       "      <td>0.0</td>\n",
       "      <td>0.0</td>\n",
       "      <td>5861.071414</td>\n",
       "      <td>5831.78</td>\n",
       "      <td>861.07</td>\n",
       "      <td>0.00</td>\n",
       "      <td>0.00</td>\n",
       "      <td>171.62</td>\n",
       "      <td>0.0</td>\n",
       "      <td>0.0</td>\n",
       "      <td>0.0</td>\n",
       "      <td>0.0</td>\n",
       "      <td>0.0</td>\n",
       "      <td>0.0</td>\n",
       "      <td>0.0</td>\n",
       "      <td>0.0</td>\n",
       "      <td>0.0</td>\n",
       "      <td>0.0</td>\n",
       "      <td>0.0</td>\n",
       "      <td>0.0</td>\n",
       "      <td>0.0</td>\n",
       "      <td>0.0</td>\n",
       "      <td>0.0</td>\n",
       "      <td>0.0</td>\n",
       "      <td>0.0</td>\n",
       "      <td>0.0</td>\n",
       "      <td>0.0</td>\n",
       "      <td>0.0</td>\n",
       "      <td>0.0</td>\n",
       "      <td>0.0</td>\n",
       "    </tr>\n",
       "    <tr>\n",
       "      <th>1</th>\n",
       "      <td>1077430</td>\n",
       "      <td>2500.0</td>\n",
       "      <td>2500.0</td>\n",
       "      <td>2500.0</td>\n",
       "      <td>60.0</td>\n",
       "      <td>15.27</td>\n",
       "      <td>59.83</td>\n",
       "      <td>3</td>\n",
       "      <td>10.0</td>\n",
       "      <td>6</td>\n",
       "      <td>30000.0</td>\n",
       "      <td>2</td>\n",
       "      <td>22</td>\n",
       "      <td>1</td>\n",
       "      <td>n</td>\n",
       "      <td>1</td>\n",
       "      <td>11</td>\n",
       "      <td>1.00</td>\n",
       "      <td>0.0</td>\n",
       "      <td>5.0</td>\n",
       "      <td>0.0</td>\n",
       "      <td>0.0</td>\n",
       "      <td>3.0</td>\n",
       "      <td>0.0</td>\n",
       "      <td>1687.0</td>\n",
       "      <td>9.4</td>\n",
       "      <td>4.0</td>\n",
       "      <td>0.0</td>\n",
       "      <td>0.0</td>\n",
       "      <td>1008.710000</td>\n",
       "      <td>1008.71</td>\n",
       "      <td>435.17</td>\n",
       "      <td>117.08</td>\n",
       "      <td>1.11</td>\n",
       "      <td>119.66</td>\n",
       "      <td>0.0</td>\n",
       "      <td>0.0</td>\n",
       "      <td>0.0</td>\n",
       "      <td>0.0</td>\n",
       "      <td>0.0</td>\n",
       "      <td>0.0</td>\n",
       "      <td>0.0</td>\n",
       "      <td>0.0</td>\n",
       "      <td>0.0</td>\n",
       "      <td>0.0</td>\n",
       "      <td>0.0</td>\n",
       "      <td>0.0</td>\n",
       "      <td>0.0</td>\n",
       "      <td>0.0</td>\n",
       "      <td>0.0</td>\n",
       "      <td>0.0</td>\n",
       "      <td>0.0</td>\n",
       "      <td>0.0</td>\n",
       "      <td>0.0</td>\n",
       "      <td>0.0</td>\n",
       "      <td>0.0</td>\n",
       "      <td>0.0</td>\n",
       "    </tr>\n",
       "    <tr>\n",
       "      <th>2</th>\n",
       "      <td>1077175</td>\n",
       "      <td>2400.0</td>\n",
       "      <td>2400.0</td>\n",
       "      <td>2400.0</td>\n",
       "      <td>36.0</td>\n",
       "      <td>15.96</td>\n",
       "      <td>84.33</td>\n",
       "      <td>3</td>\n",
       "      <td>10.0</td>\n",
       "      <td>6</td>\n",
       "      <td>12252.0</td>\n",
       "      <td>1</td>\n",
       "      <td>22</td>\n",
       "      <td>6</td>\n",
       "      <td>n</td>\n",
       "      <td>12</td>\n",
       "      <td>15</td>\n",
       "      <td>8.72</td>\n",
       "      <td>0.0</td>\n",
       "      <td>2.0</td>\n",
       "      <td>0.0</td>\n",
       "      <td>0.0</td>\n",
       "      <td>2.0</td>\n",
       "      <td>0.0</td>\n",
       "      <td>2956.0</td>\n",
       "      <td>98.5</td>\n",
       "      <td>10.0</td>\n",
       "      <td>0.0</td>\n",
       "      <td>0.0</td>\n",
       "      <td>3003.653644</td>\n",
       "      <td>3003.65</td>\n",
       "      <td>603.65</td>\n",
       "      <td>0.00</td>\n",
       "      <td>0.00</td>\n",
       "      <td>649.91</td>\n",
       "      <td>0.0</td>\n",
       "      <td>0.0</td>\n",
       "      <td>0.0</td>\n",
       "      <td>0.0</td>\n",
       "      <td>0.0</td>\n",
       "      <td>0.0</td>\n",
       "      <td>0.0</td>\n",
       "      <td>0.0</td>\n",
       "      <td>0.0</td>\n",
       "      <td>0.0</td>\n",
       "      <td>0.0</td>\n",
       "      <td>0.0</td>\n",
       "      <td>0.0</td>\n",
       "      <td>0.0</td>\n",
       "      <td>0.0</td>\n",
       "      <td>0.0</td>\n",
       "      <td>0.0</td>\n",
       "      <td>0.0</td>\n",
       "      <td>0.0</td>\n",
       "      <td>0.0</td>\n",
       "      <td>0.0</td>\n",
       "      <td>0.0</td>\n",
       "    </tr>\n",
       "    <tr>\n",
       "      <th>3</th>\n",
       "      <td>1076863</td>\n",
       "      <td>10000.0</td>\n",
       "      <td>10000.0</td>\n",
       "      <td>10000.0</td>\n",
       "      <td>36.0</td>\n",
       "      <td>13.49</td>\n",
       "      <td>339.31</td>\n",
       "      <td>3</td>\n",
       "      <td>10.0</td>\n",
       "      <td>6</td>\n",
       "      <td>49200.0</td>\n",
       "      <td>2</td>\n",
       "      <td>22</td>\n",
       "      <td>6</td>\n",
       "      <td>n</td>\n",
       "      <td>10</td>\n",
       "      <td>5</td>\n",
       "      <td>20.00</td>\n",
       "      <td>0.0</td>\n",
       "      <td>1.0</td>\n",
       "      <td>35.0</td>\n",
       "      <td>0.0</td>\n",
       "      <td>10.0</td>\n",
       "      <td>0.0</td>\n",
       "      <td>5598.0</td>\n",
       "      <td>21.0</td>\n",
       "      <td>37.0</td>\n",
       "      <td>0.0</td>\n",
       "      <td>0.0</td>\n",
       "      <td>12226.302212</td>\n",
       "      <td>12226.30</td>\n",
       "      <td>2209.33</td>\n",
       "      <td>0.00</td>\n",
       "      <td>0.00</td>\n",
       "      <td>357.48</td>\n",
       "      <td>0.0</td>\n",
       "      <td>0.0</td>\n",
       "      <td>0.0</td>\n",
       "      <td>0.0</td>\n",
       "      <td>0.0</td>\n",
       "      <td>0.0</td>\n",
       "      <td>0.0</td>\n",
       "      <td>0.0</td>\n",
       "      <td>0.0</td>\n",
       "      <td>0.0</td>\n",
       "      <td>0.0</td>\n",
       "      <td>0.0</td>\n",
       "      <td>0.0</td>\n",
       "      <td>0.0</td>\n",
       "      <td>0.0</td>\n",
       "      <td>0.0</td>\n",
       "      <td>0.0</td>\n",
       "      <td>0.0</td>\n",
       "      <td>0.0</td>\n",
       "      <td>0.0</td>\n",
       "      <td>0.0</td>\n",
       "      <td>0.0</td>\n",
       "    </tr>\n",
       "    <tr>\n",
       "      <th>4</th>\n",
       "      <td>1075358</td>\n",
       "      <td>3000.0</td>\n",
       "      <td>3000.0</td>\n",
       "      <td>3000.0</td>\n",
       "      <td>60.0</td>\n",
       "      <td>12.69</td>\n",
       "      <td>67.79</td>\n",
       "      <td>2</td>\n",
       "      <td>1.0</td>\n",
       "      <td>6</td>\n",
       "      <td>80000.0</td>\n",
       "      <td>2</td>\n",
       "      <td>22</td>\n",
       "      <td>2</td>\n",
       "      <td>n</td>\n",
       "      <td>10</td>\n",
       "      <td>38</td>\n",
       "      <td>17.94</td>\n",
       "      <td>0.0</td>\n",
       "      <td>0.0</td>\n",
       "      <td>38.0</td>\n",
       "      <td>0.0</td>\n",
       "      <td>15.0</td>\n",
       "      <td>0.0</td>\n",
       "      <td>27783.0</td>\n",
       "      <td>53.9</td>\n",
       "      <td>38.0</td>\n",
       "      <td>766.9</td>\n",
       "      <td>766.9</td>\n",
       "      <td>3242.170000</td>\n",
       "      <td>3242.17</td>\n",
       "      <td>1009.07</td>\n",
       "      <td>0.00</td>\n",
       "      <td>0.00</td>\n",
       "      <td>67.79</td>\n",
       "      <td>0.0</td>\n",
       "      <td>0.0</td>\n",
       "      <td>0.0</td>\n",
       "      <td>0.0</td>\n",
       "      <td>0.0</td>\n",
       "      <td>0.0</td>\n",
       "      <td>0.0</td>\n",
       "      <td>0.0</td>\n",
       "      <td>0.0</td>\n",
       "      <td>0.0</td>\n",
       "      <td>0.0</td>\n",
       "      <td>0.0</td>\n",
       "      <td>0.0</td>\n",
       "      <td>0.0</td>\n",
       "      <td>0.0</td>\n",
       "      <td>0.0</td>\n",
       "      <td>0.0</td>\n",
       "      <td>0.0</td>\n",
       "      <td>0.0</td>\n",
       "      <td>0.0</td>\n",
       "      <td>0.0</td>\n",
       "      <td>0.0</td>\n",
       "    </tr>\n",
       "  </tbody>\n",
       "</table>\n",
       "</div>"
      ],
      "text/plain": [
       "        id  loan_amnt  funded_amnt  funded_amnt_inv  term  int_rate  \\\n",
       "0  1077501     5000.0       5000.0           4975.0  36.0     10.65   \n",
       "1  1077430     2500.0       2500.0           2500.0  60.0     15.27   \n",
       "2  1077175     2400.0       2400.0           2400.0  36.0     15.96   \n",
       "3  1076863    10000.0      10000.0          10000.0  36.0     13.49   \n",
       "4  1075358     3000.0       3000.0           3000.0  60.0     12.69   \n",
       "\n",
       "   installment  grade  emp_length  home_ownership  annual_inc  \\\n",
       "0       162.87      2        10.0               6     24000.0   \n",
       "1        59.83      3        10.0               6     30000.0   \n",
       "2        84.33      3        10.0               6     12252.0   \n",
       "3       339.31      3        10.0               6     49200.0   \n",
       "4        67.79      2         1.0               6     80000.0   \n",
       "\n",
       "   verification_status  issue_d  loan_status pymnt_plan  purpose  addr_state  \\\n",
       "0                    3       22            6          n        2           4   \n",
       "1                    2       22            1          n        1          11   \n",
       "2                    1       22            6          n       12          15   \n",
       "3                    2       22            6          n       10           5   \n",
       "4                    2       22            2          n       10          38   \n",
       "\n",
       "     dti  delinq_2yrs  inq_last_6mths  mths_since_last_delinq  \\\n",
       "0  27.65          0.0             1.0                     0.0   \n",
       "1   1.00          0.0             5.0                     0.0   \n",
       "2   8.72          0.0             2.0                     0.0   \n",
       "3  20.00          0.0             1.0                    35.0   \n",
       "4  17.94          0.0             0.0                    38.0   \n",
       "\n",
       "   mths_since_last_record  open_acc  pub_rec  revol_bal  revol_util  \\\n",
       "0                     0.0       3.0      0.0    13648.0        83.7   \n",
       "1                     0.0       3.0      0.0     1687.0         9.4   \n",
       "2                     0.0       2.0      0.0     2956.0        98.5   \n",
       "3                     0.0      10.0      0.0     5598.0        21.0   \n",
       "4                     0.0      15.0      0.0    27783.0        53.9   \n",
       "\n",
       "   total_acc  out_prncp  out_prncp_inv   total_pymnt  total_pymnt_inv  \\\n",
       "0        9.0        0.0            0.0   5861.071414          5831.78   \n",
       "1        4.0        0.0            0.0   1008.710000          1008.71   \n",
       "2       10.0        0.0            0.0   3003.653644          3003.65   \n",
       "3       37.0        0.0            0.0  12226.302212         12226.30   \n",
       "4       38.0      766.9          766.9   3242.170000          3242.17   \n",
       "\n",
       "   total_rec_int  recoveries  collection_recovery_fee  last_pymnt_amnt  \\\n",
       "0         861.07        0.00                     0.00           171.62   \n",
       "1         435.17      117.08                     1.11           119.66   \n",
       "2         603.65        0.00                     0.00           649.91   \n",
       "3        2209.33        0.00                     0.00           357.48   \n",
       "4        1009.07        0.00                     0.00            67.79   \n",
       "\n",
       "   collections_12_mths_ex_med  mths_since_last_major_derog  annual_inc_joint  \\\n",
       "0                         0.0                          0.0               0.0   \n",
       "1                         0.0                          0.0               0.0   \n",
       "2                         0.0                          0.0               0.0   \n",
       "3                         0.0                          0.0               0.0   \n",
       "4                         0.0                          0.0               0.0   \n",
       "\n",
       "   dti_joint  acc_now_delinq  tot_coll_amt  tot_cur_bal  open_acc_6m  \\\n",
       "0        0.0             0.0           0.0          0.0          0.0   \n",
       "1        0.0             0.0           0.0          0.0          0.0   \n",
       "2        0.0             0.0           0.0          0.0          0.0   \n",
       "3        0.0             0.0           0.0          0.0          0.0   \n",
       "4        0.0             0.0           0.0          0.0          0.0   \n",
       "\n",
       "   open_il_6m  open_il_12m  open_il_24m  mths_since_rcnt_il  total_bal_il  \\\n",
       "0         0.0          0.0          0.0                 0.0           0.0   \n",
       "1         0.0          0.0          0.0                 0.0           0.0   \n",
       "2         0.0          0.0          0.0                 0.0           0.0   \n",
       "3         0.0          0.0          0.0                 0.0           0.0   \n",
       "4         0.0          0.0          0.0                 0.0           0.0   \n",
       "\n",
       "   il_util  open_rv_12m  open_rv_24m  max_bal_bc  all_util  total_rev_hi_lim  \\\n",
       "0      0.0          0.0          0.0         0.0       0.0               0.0   \n",
       "1      0.0          0.0          0.0         0.0       0.0               0.0   \n",
       "2      0.0          0.0          0.0         0.0       0.0               0.0   \n",
       "3      0.0          0.0          0.0         0.0       0.0               0.0   \n",
       "4      0.0          0.0          0.0         0.0       0.0               0.0   \n",
       "\n",
       "   inq_fi  total_cu_tl  inq_last_12m  \n",
       "0     0.0          0.0           0.0  \n",
       "1     0.0          0.0           0.0  \n",
       "2     0.0          0.0           0.0  \n",
       "3     0.0          0.0           0.0  \n",
       "4     0.0          0.0           0.0  "
      ]
     },
     "execution_count": 13,
     "metadata": {},
     "output_type": "execute_result"
    }
   ],
   "source": [
    "#convert categorical data to numeric using the categorize method defined above\n",
    "df['grade'] = categorize(df['grade'])\n",
    "df['home_ownership'] = categorize(df['home_ownership'])\n",
    "df['purpose'] = categorize(df['purpose'])\n",
    "df['verification_status'] = categorize(df['verification_status'])\n",
    "df['addr_state'] = categorize(df['addr_state'])\n",
    "df['loan_status'] = categorize(df['loan_status'])\n",
    "df['issue_d'] = categorize(df['issue_d'])\n",
    "\n",
    "df['term'] =df['term'].astype(float)\n",
    "df['emp_length'] =df['emp_length'].astype(float)\n",
    "\n",
    "\n",
    "df.head()"
   ]
  },
  {
   "cell_type": "markdown",
   "metadata": {},
   "source": [
    "# Variable Selection\n",
    "Randomly split the dataset into training and testing sets"
   ]
  },
  {
   "cell_type": "code",
   "execution_count": 14,
   "metadata": {},
   "outputs": [],
   "source": [
    "target = df.int_rate\n",
    "\n",
    "#set 50% of data as training set and 50% as testing set\n",
    "X_train, X_test, y_train, y_test = train_test_split(df, target, test_size=\n",
    "0.5)\n",
    "X_test,X_dev,y_test,y_dev = train_test_split(X_test,y_test, test_size=0.5)"
   ]
  },
  {
   "cell_type": "code",
   "execution_count": 15,
   "metadata": {},
   "outputs": [
    {
     "name": "stderr",
     "output_type": "stream",
     "text": [
      "C:\\Users\\bhavy\\Anaconda3\\lib\\site-packages\\pandas\\core\\frame.py:3697: SettingWithCopyWarning: \n",
      "A value is trying to be set on a copy of a slice from a DataFrame\n",
      "\n",
      "See the caveats in the documentation: http://pandas.pydata.org/pandas-docs/stable/indexing.html#indexing-view-versus-copy\n",
      "  errors=errors)\n"
     ]
    }
   ],
   "source": [
    "X_train.drop([\"int_rate\"], axis = 1, inplace = True)\n",
    "X_test.drop([\"int_rate\"], axis = 1, inplace = True)\n",
    "X_dev.drop([\"int_rate\"], axis = 1, inplace = True)"
   ]
  },
  {
   "cell_type": "code",
   "execution_count": 16,
   "metadata": {},
   "outputs": [
    {
     "data": {
      "text/plain": [
       "Text(0, 0.5, 'Count')"
      ]
     },
     "execution_count": 16,
     "metadata": {},
     "output_type": "execute_result"
    },
    {
     "data": {
      "image/png": "[encoded data removed]",
      "text/plain": [
       "<Figure size 432x288 with 1 Axes>"
      ]
     },
     "metadata": {
      "needs_background": "light"
     },
     "output_type": "display_data"
    }
   ],
   "source": [
    "plt.hist(y_train)\n",
    "plt.title('Training Set Data Showing Target Variable')\n",
    "plt.xlabel('Interest Rate')\n",
    "plt.ylabel('Count')"
   ]
  },
  {
   "cell_type": "code",
   "execution_count": 17,
   "metadata": {},
   "outputs": [
    {
     "data": {
      "text/plain": [
       "Text(0, 0.5, 'Count')"
      ]
     },
     "execution_count": 17,
     "metadata": {},
     "output_type": "execute_result"
    },
    {
     "data": {
      "image/png": "[encoded data removed]",
      "text/plain": [
       "<Figure size 432x288 with 1 Axes>"
      ]
     },
     "metadata": {
      "needs_background": "light"
     },
     "output_type": "display_data"
    }
   ],
   "source": [
    "y_train_log=np.log1p(y_train)\n",
    "\n",
    "Traindata=X_train\n",
    "Traindata=Traindata.join([y_train])\n",
    "\n",
    "plt.hist(y_train_log)\n",
    "plt.title('Training Set Data Showing Target Variable after Log transformation')\n",
    "plt.xlabel('Interest Rate')\n",
    "plt.ylabel('Count')"
   ]
  },
  {
   "cell_type": "code",
   "execution_count": 18,
   "metadata": {},
   "outputs": [
    {
     "data": {
      "text/plain": [
       "Text(0.5, 0, 'Correlation with Interest Rate')"
      ]
     },
     "execution_count": 18,
     "metadata": {},
     "output_type": "execute_result"
    },
    {
     "data": {
      "image/png": "[encoded data removed]",
      "text/plain": [
       "<Figure size 1296x360 with 1 Axes>"
      ]
     },
     "metadata": {
      "needs_background": "light"
     },
     "output_type": "display_data"
    }
   ],
   "source": [
    "ax = Traindata.corr()['int_rate'].plot(kind = \"bar\", figsize=(18,5))\n",
    "ax.set_xlabel('Correlation with Interest Rate')"
   ]
  },
  {
   "cell_type": "code",
   "execution_count": 19,
   "metadata": {},
   "outputs": [
    {
     "name": "stdout",
     "output_type": "stream",
     "text": [
      "int_rate                       1.000000\n",
      "grade                          0.954166\n",
      "total_rec_int                  0.446664\n",
      "term                           0.428699\n",
      "revol_util                     0.268713\n",
      "verification_status            0.253051\n",
      "inq_last_6mths                 0.227664\n",
      "total_pymnt_inv                0.172735\n",
      "total_pymnt                    0.171807\n",
      "purpose                        0.151558\n",
      "funded_amnt_inv                0.145904\n",
      "funded_amnt                    0.145881\n",
      "loan_amnt                      0.145713\n",
      "installment                    0.133580\n",
      "recoveries                     0.106086\n",
      "last_pymnt_amnt                0.101673\n",
      "dti                            0.079648\n",
      "collection_recovery_fee        0.074119\n",
      "mths_since_last_major_derog    0.064476\n",
      "home_ownership                 0.064383\n",
      "mths_since_last_record         0.062098\n",
      "delinq_2yrs                    0.056741\n",
      "pub_rec                        0.052501\n",
      "mths_since_last_delinq         0.046904\n",
      "out_prncp                      0.041384\n",
      "out_prncp_inv                  0.041242\n",
      "loan_status                    0.028100\n",
      "acc_now_delinq                 0.026760\n",
      "collections_12_mths_ex_med     0.014739\n",
      "dti_joint                      0.011105\n",
      "inq_last_12m                   0.009413\n",
      "annual_inc_joint               0.007502\n",
      "open_il_12m                    0.006787\n",
      "addr_state                     0.005920\n",
      "tot_coll_amt                   0.004326\n",
      "emp_length                     0.003544\n",
      "open_acc_6m                    0.001783\n",
      "inq_fi                        -0.000722\n",
      "open_rv_12m                   -0.004052\n",
      "open_il_24m                   -0.005425\n",
      "open_rv_24m                   -0.009747\n",
      "open_acc                      -0.009854\n",
      "issue_d                       -0.014080\n",
      "total_cu_tl                   -0.015058\n",
      "total_bal_il                  -0.017250\n",
      "open_il_6m                    -0.020095\n",
      "all_util                      -0.021602\n",
      "il_util                       -0.021679\n",
      "revol_bal                     -0.036715\n",
      "total_acc                     -0.037149\n",
      "max_bal_bc                    -0.037373\n",
      "mths_since_rcnt_il            -0.037612\n",
      "annual_inc                    -0.068423\n",
      "tot_cur_bal                   -0.074350\n",
      "id                            -0.144897\n",
      "total_rev_hi_lim              -0.150963\n",
      "Name: int_rate, dtype: float64\n"
     ]
    }
   ],
   "source": [
    "#Features in descending order \n",
    "cor = Traindata.corr()['int_rate'].sort_values(ascending=False)\n",
    "print(cor)"
   ]
  },
  {
   "cell_type": "code",
   "execution_count": 20,
   "metadata": {},
   "outputs": [],
   "source": [
    "#saving the cleaned data\n",
    "df.to_csv(r'Cleaned_loan.csv')"
   ]
  },
  {
   "cell_type": "markdown",
   "metadata": {},
   "source": [
    "# Variable selection using FeatureTools"
   ]
  },
  {
   "cell_type": "code",
   "execution_count": 34,
   "metadata": {},
   "outputs": [
    {
     "name": "stdout",
     "output_type": "stream",
     "text": [
      "Built 20 features\n"
     ]
    }
   ],
   "source": [
    "import featuretools as ft\n",
    "import featuretools.primitives.api as ftypes\n",
    "import featuretools.variable_types as vtypes\n",
    "\n",
    "es = ft.EntitySet(id = 'clients')\n",
    "es = es.entity_from_dataframe(entity_id = 'df', dataframe = df, index = 'id')\n",
    "\n",
    "primitives = ft.list_primitives()\n",
    "pd.options.display.max_colwidth = 100\n",
    "default_agg_primitives =  [\"sum\", \"std\", \"max\", \"skew\", \"min\", \"mean\", \"count\", \"percent_true\", \"num_unique\", \"mode\"]\n",
    "default_trans_primitives =  [\"numwords\", \"characters\"]\n",
    "\n",
    "# DFS with specified primitives\n",
    "feature_names = ft.dfs(entityset = es, target_entity = 'df',\n",
    "                       trans_primitives = [],\n",
    "                       agg_primitives=default_agg_primitives, \n",
    "                       where_primitives = [], seed_features = [],\n",
    "                       max_depth = 2, n_jobs = -1, verbose = 1,\n",
    "                       features_only=True,max_features=20)"
   ]
  },
  {
   "cell_type": "code",
   "execution_count": 38,
   "metadata": {},
   "outputs": [
    {
     "name": "stdout",
     "output_type": "stream",
     "text": [
      "Entityset: df\n",
      "  Entities:\n",
      "    dat [Rows: 887379, Columns: 57]\n",
      "    targ [Rows: 887379, Columns: 1]\n",
      "  Relationships:\n",
      "    dat.id -> targ.id\n"
     ]
    }
   ],
   "source": [
    "import featuretools as ft\n",
    "\n",
    "# saving identifiers\n",
    "identifier = df\n",
    "\n",
    "#Target variable\n",
    "targ = df['int_rate']\n",
    "\n",
    "es = ft.EntitySet(id = 'df')\n",
    "es = es.entity_from_dataframe(entity_id = 'dat', dataframe = df, index = 'id')\n",
    "es.normalize_entity(base_entity_id='dat', new_entity_id='targ', index = 'id')\n",
    "\n",
    "print(es)"
   ]
  },
  {
   "cell_type": "code",
   "execution_count": 41,
   "metadata": {},
   "outputs": [
    {
     "name": "stdout",
     "output_type": "stream",
     "text": [
      "Built 332 features\n",
      "EntitySet scattered to workers in 13.238 seconds\n",
      "Elapsed: 00:00 | Remaining: ? | Progress:   0%|                                               | Calculated: 0/11 chunks"
     ]
    },
    {
     "name": "stderr",
     "output_type": "stream",
     "text": [
      "distributed.comm.tcp - WARNING - Closing dangling stream in <TCP local=tcp://127.0.0.1:54457 remote=tcp://127.0.0.1:54355>\n",
      "distributed.comm.tcp - WARNING - Closing dangling stream in <TCP local=tcp://127.0.0.1:54466 remote=tcp://127.0.0.1:54355>\n",
      "distributed.comm.tcp - WARNING - Closing dangling stream in <TCP local=tcp://127.0.0.1:54479 remote=tcp://127.0.0.1:54355>\n"
     ]
    },
    {
     "name": "stdout",
     "output_type": "stream",
     "text": [
      "Elapsed: 2:07:49 | Remaining: 00:00 | Progress: 100%|████████████████████████████████████████| Calculated: 11/11 chunks\n"
     ]
    },
    {
     "name": "stderr",
     "output_type": "stream",
     "text": [
      "tornado.application - ERROR - Exception in Future <Future cancelled> after timeout\n",
      "Traceback (most recent call last):\n",
      "  File \"C:\\Users\\bhavy\\Anaconda3\\lib\\site-packages\\tornado\\gen.py\", line 970, in error_callback\n",
      "    future.result()\n",
      "concurrent.futures._base.CancelledError\n",
      "distributed.comm.tcp - WARNING - Closing dangling stream in <TCP local=tcp://127.0.0.1:54738 remote=tcp://127.0.0.1:54707>\n"
     ]
    }
   ],
   "source": [
    "feature_matrix, feature_names = ft.dfs(entityset=es, \n",
    "target_entity = 'targ', \n",
    "max_depth = 2, \n",
    "verbose = 1, \n",
    "n_jobs = 3)"
   ]
  },
  {
   "cell_type": "code",
   "execution_count": 43,
   "metadata": {},
   "outputs": [
    {
     "data": {
      "text/plain": [
       "Index(['SUM(dat.loan_amnt)', 'SUM(dat.funded_amnt)',\n",
       "       'SUM(dat.funded_amnt_inv)', 'SUM(dat.term)', 'SUM(dat.int_rate)',\n",
       "       'SUM(dat.installment)', 'SUM(dat.grade)', 'SUM(dat.emp_length)',\n",
       "       'SUM(dat.home_ownership)', 'SUM(dat.annual_inc)',\n",
       "       ...\n",
       "       'MEAN(dat.open_rv_12m)', 'MEAN(dat.open_rv_24m)',\n",
       "       'MEAN(dat.max_bal_bc)', 'MEAN(dat.all_util)',\n",
       "       'MEAN(dat.total_rev_hi_lim)', 'MEAN(dat.inq_fi)',\n",
       "       'MEAN(dat.total_cu_tl)', 'MEAN(dat.inq_last_12m)',\n",
       "       'NUM_UNIQUE(dat.pymnt_plan)', 'MODE(dat.pymnt_plan)'],\n",
       "      dtype='object', length=332)"
      ]
     },
     "execution_count": 43,
     "metadata": {},
     "output_type": "execute_result"
    }
   ],
   "source": [
    "pd.set_option('display.max_columns', 500)\n",
    "feature_matrix.columns"
   ]
  },
  {
   "cell_type": "code",
   "execution_count": null,
   "metadata": {},
   "outputs": [],
   "source": []
  }
 ],
 "metadata": {
  "kernelspec": {
   "display_name": "Python 3",
   "language": "python",
   "name": "python3"
  },
  "language_info": {
   "codemirror_mode": {
    "name": "ipython",
    "version": 3
   },
   "file_extension": ".py",
   "mimetype": "text/x-python",
   "name": "python",
   "nbconvert_exporter": "python",
   "pygments_lexer": "ipython3",
   "version": "3.7.1"
  }
 },
 "nbformat": 4,
 "nbformat_minor": 2
}
